{
  "cells": [
    {
      "cell_type": "markdown",
      "source": [
        "# **Introduction to PyTorch**"
      ],
      "metadata": {
        "id": "EnbPaUneIG7C"
      }
    },
    {
      "cell_type": "markdown",
      "metadata": {
        "id": "Y5enyRdM5to8"
      },
      "source": [
        "PyTorch is an open-source machine learning & deep learning framework\n",
        "\n",
        "*   One of the most popular DL frameworks at the moment\n",
        "*   Developed by Facebooko AI research group\n",
        "*   Provide (most of) basic building components to implement, train, and test any deep learning networks\n",
        "*   Provide automatic computation of gradietns and strong GPU support\n",
        "*   Provide greater flexibility for developers"
      ]
    },
    {
      "cell_type": "markdown",
      "source": [
        "![](https://drive.google.com/uc?id=1371yR06Rbo8uk8Z13wFAB-_-LqUibs50)\n",
        "\n",
        "from https://www.assemblyai.com/blog/pytorch-vs-tensorflow-in-2023/"
      ],
      "metadata": {
        "id": "nX4A4xLcHWKO"
      }
    },
    {
      "cell_type": "markdown",
      "source": [
        "Essential libraries:\n",
        "\n",
        "*   torch: Top-level PyTorch package and tensor library\n",
        "*   torchvision: popoular datasets, model architectures, etc.\n",
        "\n",
        "\n",
        "Installation: \\\\\n",
        "  pip3 install torch torchvision OR conda install pytorch torchvision -c pytorch\n"
      ],
      "metadata": {
        "id": "LZep_oVWMCK6"
      }
    },
    {
      "cell_type": "markdown",
      "source": [
        "## **PyTorch: Tensors**\n",
        "\n",
        "*   Tensors are similar to NumPy's ndarrays\n",
        "*   Common operations (creation, multiplication, transpose, indexing, reshpaing, ...) are similar to each other\n",
        "*   Tensors can be used on a GPU, not ndarrays\n"
      ],
      "metadata": {
        "id": "RX8uAuzdKq_y"
      }
    },
    {
      "cell_type": "markdown",
      "source": [
        "Import torch library"
      ],
      "metadata": {
        "id": "va3otFEHLv6j"
      }
    },
    {
      "cell_type": "code",
      "execution_count": null,
      "metadata": {
        "id": "TFGEMbH34Lxy"
      },
      "outputs": [],
      "source": [
        "import torch"
      ]
    },
    {
      "cell_type": "markdown",
      "source": [
        "Check if GPU is available"
      ],
      "metadata": {
        "id": "sZOO9VA9RCLg"
      }
    },
    {
      "cell_type": "code",
      "execution_count": null,
      "metadata": {
        "id": "Uvcs92AiAac7"
      },
      "outputs": [],
      "source": [
        "device = torch.cuda.is_available()\n",
        "print(device)       # if GPU is available, else False"
      ]
    },
    {
      "cell_type": "markdown",
      "source": [
        "### Setting up GPU environment\n",
        "\n",
        "1. Click on \"Runtime\" in the toolbar\n",
        "2. Select \"Change runtime type\"\n",
        "3. Select hardware accelarator: \"GPU\" (runtime type: \"Python 3\")\n",
        "4. Re-run your code\n"
      ],
      "metadata": {
        "id": "lblVoKx8R5-I"
      }
    },
    {
      "cell_type": "code",
      "source": [
        "if torch.cuda.is_available():\n",
        "    device = torch.device('cuda')\n",
        "else:\n",
        "    device = torch.device('cpu')\n",
        "\n",
        "print('using device:', device)"
      ],
      "metadata": {
        "id": "YiReBCLFRVHo"
      },
      "execution_count": null,
      "outputs": []
    },
    {
      "cell_type": "markdown",
      "metadata": {
        "id": "2Z6Qy7hH2iEr"
      },
      "source": [
        "### Create Tensors"
      ]
    },
    {
      "cell_type": "code",
      "execution_count": null,
      "metadata": {
        "id": "Yqgicxmu2Z5X"
      },
      "outputs": [],
      "source": [
        "zeros_tensor = torch.zeros(size=(4,3))        # all elements are 0s (4x3)\n",
        "print('Tensor - Zeros: \\n', zeros_tensor)\n",
        "\n",
        "ones_tensor = torch.ones(size=(2,3))          # all elements are 0s (2x3)\n",
        "print('\\nTensor - Ones: \\n', ones_tensor)\n",
        "\n",
        "diag_tensor = torch.eye(3)                    # diagonal matrix (3x3)\n",
        "print('\\nTensor - Diagonal: \\n', diag_tensor)\n",
        "\n",
        "rand_tensor = torch.rand(size=(2,4))          # random values of size 2x4\n",
        "print('\\nTensor - Random: \\n', rand_tensor)\n",
        "\n",
        "range_tensor = torch.arange(10)               # A series of numbers from 0 to 9\n",
        "print('\\nTensor - Range: \\n', range_tensor)\n"
      ]
    },
    {
      "cell_type": "markdown",
      "metadata": {
        "id": "XuUqIXifsbc2"
      },
      "source": [
        "### Create tensors from existing data (list, array & existing tensors)"
      ]
    },
    {
      "cell_type": "code",
      "source": [
        "import numpy as np"
      ],
      "metadata": {
        "id": "TSq4DRHqUrxF"
      },
      "execution_count": null,
      "outputs": []
    },
    {
      "cell_type": "code",
      "execution_count": null,
      "metadata": {
        "id": "bDQvfUfc4YFl"
      },
      "outputs": [],
      "source": [
        "list_tensor = torch.tensor([1,2,3,4,5,6])              # from python list\n",
        "print('Tensor - List: \\n', list_tensor)\n",
        "\n",
        "array_tensor = torch.tensor(np.array([1,2,3,4,3,2,1])) # from numpy array\n",
        "print('\\nTensor - Array: \\n', array_tensor)\n",
        "\n",
        "array_tensor2 = torch.tensor(np.random.randn(4))       # from numpy array\n",
        "print('\\nTensor - Array: \\n', array_tensor2)\n",
        "\n",
        "copy_tensor = list_tensor.clone()       # copy from existing torch tensor\n",
        "print('\\nTensor - Copy: \\n', copy_tensor)\n"
      ]
    },
    {
      "cell_type": "code",
      "source": [
        "float_tensor = torch.tensor([1.0, 3.0, 5.0, 7.0, 9.0])\n",
        "float_tensor2 = torch.tensor([1.0, 3.0, 5.0, 7.0, 9.0], requires_grad=True)\n",
        "\n",
        "print(float_tensor)\n",
        "print('compute gradients?: ', float_tensor.requires_grad)\n",
        "\n",
        "print(float_tensor2)\n",
        "print('compute gradients?: ', float_tensor2.requires_grad)"
      ],
      "metadata": {
        "id": "eWNqaf0XKe8s"
      },
      "execution_count": null,
      "outputs": []
    },
    {
      "cell_type": "markdown",
      "metadata": {
        "id": "bHquemD9dcVV"
      },
      "source": [
        "### Tensor conversion"
      ]
    },
    {
      "cell_type": "markdown",
      "source": [
        "From numpy to tensor"
      ],
      "metadata": {
        "id": "S2YHrK9NaVxc"
      }
    },
    {
      "cell_type": "code",
      "execution_count": null,
      "metadata": {
        "id": "45w47EfRJ6dB"
      },
      "outputs": [],
      "source": [
        "arr = np.array([1, 2, 3, 4, 5, 6])\n",
        "print('NumPy Array: ', arr)\n",
        "print('NumPy Array Type: ', type(arr), ' Data Type: ', arr.dtype)\n",
        "\n",
        "arr_tensor = torch.from_numpy(arr)\n",
        "print('Tensor from Array: ', arr_tensor)\n",
        "print('Tensor from Array Type: ', type(arr_tensor), ' Data Type: ', arr_tensor.dtype)"
      ]
    },
    {
      "cell_type": "markdown",
      "source": [
        "Tensor type conversion"
      ],
      "metadata": {
        "id": "5I0DRCmpaYiO"
      }
    },
    {
      "cell_type": "code",
      "source": [
        "print('Tensor to float : ', arr_tensor.float(), arr_tensor.float().dtype)\n",
        "print('Tensor to double : ', arr_tensor.double(), arr_tensor.double().dtype)"
      ],
      "metadata": {
        "id": "xNAJEE5Haa92"
      },
      "execution_count": null,
      "outputs": []
    },
    {
      "cell_type": "markdown",
      "source": [
        "From tensor to numpy array"
      ],
      "metadata": {
        "id": "BIGlcMlTaRrm"
      }
    },
    {
      "cell_type": "code",
      "execution_count": null,
      "metadata": {
        "id": "GL6xQTeDWV-O"
      },
      "outputs": [],
      "source": [
        "tmp_tensor = torch.tensor([1, 2, 3, 4, 5, 6])\n",
        "arr = tmp_tensor.detach().numpy()   # detach from computational graph and convert to numpy\n",
        "\n",
        "print('Tensor: ', tmp_tensor, type(tmp_tensor))\n",
        "print('Numpy array: ', arr, type(arr))"
      ]
    },
    {
      "cell_type": "markdown",
      "metadata": {
        "id": "rKnEOX1jnyH8"
      },
      "source": [
        "### Load Data to GPU"
      ]
    },
    {
      "cell_type": "code",
      "source": [
        "import torch"
      ],
      "metadata": {
        "id": "xcAbnW8gbTm2"
      },
      "execution_count": null,
      "outputs": []
    },
    {
      "cell_type": "code",
      "execution_count": null,
      "metadata": {
        "id": "r93AOp_-nuhO"
      },
      "outputs": [],
      "source": [
        "device = torch.device(\"cuda\" if torch.cuda.is_available() else \"cpu\")\n",
        "print(device)\n",
        "\n",
        "cpu_tensor = torch.tensor([2, 4, 6, 8, 10])\n",
        "print(cpu_tensor)\n",
        "\n",
        "# Pushing the data to device\n",
        "cpu_tensor = cpu_tensor.to(device)\n",
        "print(cpu_tensor)"
      ]
    },
    {
      "cell_type": "markdown",
      "source": [
        "Create GPU tensor"
      ],
      "metadata": {
        "id": "8fXJ-nwtbj_T"
      }
    },
    {
      "cell_type": "code",
      "source": [
        "gpu_tensor = torch.cuda.DoubleTensor([1, 3, 5, 7, 9])\n",
        "print(gpu_tensor)"
      ],
      "metadata": {
        "id": "F5ixPdyHbDL-"
      },
      "execution_count": null,
      "outputs": []
    },
    {
      "cell_type": "markdown",
      "metadata": {
        "id": "Vgo3dkKT6lky"
      },
      "source": [
        "## **Tensor indexing and slicing**\n"
      ]
    },
    {
      "cell_type": "code",
      "execution_count": null,
      "metadata": {
        "id": "7vlpFvSH6sSQ"
      },
      "outputs": [],
      "source": [
        "tmp_tensor = torch.rand(size=(2,3,4))   # create a 3D tensor\n",
        "print('Tensor :', tmp_tensor)"
      ]
    },
    {
      "cell_type": "code",
      "source": [
        "print([tmp_tensor[0]])"
      ],
      "metadata": {
        "id": "TBKWK6M6jgyM"
      },
      "execution_count": null,
      "outputs": []
    },
    {
      "cell_type": "code",
      "source": [
        "print([tmp_tensor[1, 1:2]])"
      ],
      "metadata": {
        "id": "sm3XLvJgjslr"
      },
      "execution_count": null,
      "outputs": []
    },
    {
      "cell_type": "code",
      "source": [
        "print([tmp_tensor[1, 1, 0:3]])"
      ],
      "metadata": {
        "id": "LKReWcjKjx8M"
      },
      "execution_count": null,
      "outputs": []
    },
    {
      "cell_type": "code",
      "source": [
        "print([tmp_tensor[1, -2:]])"
      ],
      "metadata": {
        "id": "q2thoHrVj8oY"
      },
      "execution_count": null,
      "outputs": []
    },
    {
      "cell_type": "code",
      "source": [
        "print(tmp_tensor[1][2][3])\n",
        "print(tmp_tensor[1, 2][3])\n",
        "print(tmp_tensor[1][2, 3])\n",
        "print(tmp_tensor[1, 2, 3])"
      ],
      "metadata": {
        "id": "uBbCcQ_kjSyk"
      },
      "execution_count": null,
      "outputs": []
    },
    {
      "cell_type": "markdown",
      "metadata": {
        "id": "8aiKETU39GAP"
      },
      "source": [
        "## **Tensor Pivoting and Reshaping**"
      ]
    },
    {
      "cell_type": "markdown",
      "metadata": {
        "id": "HSN_4hUCvoT7"
      },
      "source": [
        "### Flatten: tensors to a single dimension"
      ]
    },
    {
      "cell_type": "code",
      "execution_count": null,
      "metadata": {
        "id": "UJhvVufa9wxu"
      },
      "outputs": [],
      "source": [
        "tmp_tensor = torch.rand(size=(2,2,3))   # create a 3D tensor\n",
        "print('Tensor ', tmp_tensor.shape, ': \\n', tmp_tensor)\n",
        "\n",
        "print('\\nTensor flatten ', tmp_tensor.flatten().shape, ': \\n', tmp_tensor.flatten())\n"
      ]
    },
    {
      "cell_type": "markdown",
      "metadata": {
        "id": "8JLiewszwAwe"
      },
      "source": [
        "### Squeeze and Unsqueeze\n",
        "Add and remove a dimension from the tensor"
      ]
    },
    {
      "cell_type": "markdown",
      "metadata": {
        "id": "foyzFJ0vYo7l"
      },
      "source": [
        "Unsqueeze: add an extra dimension to a tensor"
      ]
    },
    {
      "cell_type": "code",
      "source": [
        "tmp_tensor = torch.rand(size=(2,3,4))\n",
        "print('Tensor ', tmp_tensor.shape, ': \\n', tmp_tensor)"
      ],
      "metadata": {
        "id": "07G2DKZLltaw"
      },
      "execution_count": null,
      "outputs": []
    },
    {
      "cell_type": "markdown",
      "source": [
        "Unsqueeze along axis 0"
      ],
      "metadata": {
        "id": "kF6yMuAtmUB5"
      }
    },
    {
      "cell_type": "code",
      "source": [
        "tmp_tensor_0 = tmp_tensor.unsqueeze(dim=0)\n",
        "print('Unsequeeze along axis 0: ', tmp_tensor_0.shape, ':\\n', tmp_tensor_0)"
      ],
      "metadata": {
        "id": "O_JzbKJkl0Z9"
      },
      "execution_count": null,
      "outputs": []
    },
    {
      "cell_type": "markdown",
      "source": [
        "Unsqueeze along axis 1"
      ],
      "metadata": {
        "id": "fEVdaDhumXPI"
      }
    },
    {
      "cell_type": "code",
      "execution_count": null,
      "metadata": {
        "id": "7lFEAkF1Ah8U"
      },
      "outputs": [],
      "source": [
        "tmp_tensor_1 = tmp_tensor.unsqueeze(dim=1)   \n",
        "print('Unsequeeze along axis 1: ', tmp_tensor_1.shape, ':\\n', tmp_tensor_1)"
      ]
    },
    {
      "cell_type": "markdown",
      "metadata": {
        "id": "xkdoihF4YlnP"
      },
      "source": [
        "Squeeze: remove a (empty) dimension(s) from tensor"
      ]
    },
    {
      "cell_type": "markdown",
      "source": [
        "Squeeze along axis 0"
      ],
      "metadata": {
        "id": "DRazR-jbm6Dt"
      }
    },
    {
      "cell_type": "code",
      "source": [
        "tmp_tensor_0_s = tmp_tensor_0.squeeze(0)\n",
        "print('Sequeeze along axis 0: ', tmp_tensor_0_s.shape, ':\\n', tmp_tensor_0_s)"
      ],
      "metadata": {
        "id": "1n6Cp_GtmwcN"
      },
      "execution_count": null,
      "outputs": []
    },
    {
      "cell_type": "markdown",
      "source": [
        "Squeeze along axis 1"
      ],
      "metadata": {
        "id": "tZolnTnSm7Ql"
      }
    },
    {
      "cell_type": "code",
      "execution_count": null,
      "metadata": {
        "id": "Zh1OxOIOYg--"
      },
      "outputs": [],
      "source": [
        "tmp_tensor_1_s = tmp_tensor_1.squeeze(1)\n",
        "print('Sequeeze along axis 1: ', tmp_tensor_1_s.shape, ':\\n', tmp_tensor_1_s)"
      ]
    },
    {
      "cell_type": "markdown",
      "metadata": {
        "id": "6OHGcIBww4i3"
      },
      "source": [
        "### Reshape tensor"
      ]
    },
    {
      "cell_type": "code",
      "source": [
        "tmp_tensor = torch.rand(size=(2,3,4))\n",
        "print('Tensor ', tmp_tensor.shape, ': \\n', tmp_tensor)"
      ],
      "metadata": {
        "id": "qYNTaDvqnEoA"
      },
      "execution_count": null,
      "outputs": []
    },
    {
      "cell_type": "code",
      "execution_count": null,
      "metadata": {
        "id": "BFBm16dy_oml"
      },
      "outputs": [],
      "source": [
        "print('to (6, 4) : ', tmp_tensor.reshape((6,4)), '\\n', tmp_tensor.reshape((6,4)).shape)\n",
        "\n",
        "# -1: automatically infer the dimension in regard to elements in other dimensions\n",
        "print('\\nto (6, -1) : ', tmp_tensor.reshape(6,-1), '\\n', tmp_tensor.reshape(6,-1).shape)\n",
        "\n",
        "print('\\nto (2, 4, 3) : ', tmp_tensor.reshape(2,4,3), '\\n', tmp_tensor.reshape(2,4,3).shape)\n",
        "\n",
        "print('\\nto (-1) : ', tmp_tensor.reshape(-1), '\\n', tmp_tensor.reshape(-1).shape)"
      ]
    },
    {
      "cell_type": "markdown",
      "metadata": {
        "id": "l0C5YLGUxi7i"
      },
      "source": [
        "### Transpose"
      ]
    },
    {
      "cell_type": "code",
      "source": [
        "tmp_tensor = torch.rand(size=(2,3,4))\n",
        "print('Tensor ', tmp_tensor.shape, ': \\n', tmp_tensor)"
      ],
      "metadata": {
        "id": "YPuIKN7goDsy"
      },
      "execution_count": null,
      "outputs": []
    },
    {
      "cell_type": "code",
      "execution_count": null,
      "metadata": {
        "id": "3tdRTafzAfvD"
      },
      "outputs": [],
      "source": [
        "print(tmp_tensor.shape)\n",
        "\n",
        "print(tmp_tensor.transpose(0,1).shape)\n",
        "\n",
        "print(tmp_tensor.transpose(0,2).shape)\n"
      ]
    },
    {
      "cell_type": "markdown",
      "metadata": {
        "id": "vLQwsolqxofG"
      },
      "source": [
        "### Permute Tensor\n",
        "Reorder multiple dimensions simultaneously (transpose interchanges two dimensions only)\n"
      ]
    },
    {
      "cell_type": "code",
      "source": [
        "tmp_tensor = torch.rand(size=(2,3,4))\n",
        "print('Tensor ', tmp_tensor.shape, ': \\n', tmp_tensor)"
      ],
      "metadata": {
        "id": "IjfgLrXUoY7C"
      },
      "execution_count": null,
      "outputs": []
    },
    {
      "cell_type": "code",
      "execution_count": null,
      "metadata": {
        "id": "b-xquTpxtr8A"
      },
      "outputs": [],
      "source": [
        "print(tmp_tensor.permute(1,2,0).shape)\n",
        "\n",
        "print(tmp_tensor.permute(2,0,1).shape)"
      ]
    },
    {
      "cell_type": "markdown",
      "metadata": {
        "id": "o2SjC78OXA6V"
      },
      "source": [
        "## **Combining Tensors**"
      ]
    },
    {
      "cell_type": "code",
      "source": [
        "import torch"
      ],
      "metadata": {
        "id": "xNwOTp8KCN9l"
      },
      "execution_count": null,
      "outputs": []
    },
    {
      "cell_type": "markdown",
      "metadata": {
        "id": "OQ040S1mx4Bq"
      },
      "source": [
        "### Concatenate"
      ]
    },
    {
      "cell_type": "code",
      "execution_count": null,
      "metadata": {
        "id": "wUnPorUTkTH2"
      },
      "outputs": [],
      "source": [
        "tmp_tensor1 = torch.rand(size=(2,3,4))\n",
        "tmp_tensor2 = torch.rand(size=(2,3,4))\n",
        "\n",
        "print('tmp_tensor1: ', tmp_tensor1, \"\\n\")\n",
        "print('tmp_tensor2: ', tmp_tensor2, \"\\n\")"
      ]
    },
    {
      "cell_type": "code",
      "source": [
        "concat_tensor = torch.cat([tmp_tensor1, tmp_tensor2], dim=1)\n",
        "print('Concatenated Tensor ', concat_tensor.shape, '\\n', concat_tensor)"
      ],
      "metadata": {
        "id": "OEdrm9YkpItK"
      },
      "execution_count": null,
      "outputs": []
    },
    {
      "cell_type": "code",
      "source": [
        "concat_tensor2 = torch.cat([tmp_tensor1, tmp_tensor2], dim=2)\n",
        "print('Concatenated Tensor along axis 2', concat_tensor2.shape, '\\n', concat_tensor2)"
      ],
      "metadata": {
        "id": "a0DGSz7zZfSm"
      },
      "execution_count": null,
      "outputs": []
    },
    {
      "cell_type": "markdown",
      "metadata": {
        "id": "eSdHu7Mex9W6"
      },
      "source": [
        "### Stack: along a new dimension"
      ]
    },
    {
      "cell_type": "code",
      "execution_count": null,
      "metadata": {
        "id": "NRMU3zWzpz6Z"
      },
      "outputs": [],
      "source": [
        "tmp_tensor1 = torch.rand(size=(2,3,4))\n",
        "tmp_tensor2 = torch.rand(size=(2,3,4))\n",
        "\n",
        "print('tmp_tensor1: ', tmp_tensor1, \"\\n\")\n",
        "print('tmp_tensor2: ', tmp_tensor2, \"\\n\")"
      ]
    },
    {
      "cell_type": "code",
      "source": [
        "stack_tensor = torch.stack([tmp_tensor1, tmp_tensor2], dim=0)\n",
        "print('Stacked Tensor ', stack_tensor.shape, '\\n', stack_tensor)"
      ],
      "metadata": {
        "id": "61ySL02Yp9E_"
      },
      "execution_count": null,
      "outputs": []
    },
    {
      "cell_type": "code",
      "source": [
        "stack_tensor = torch.stack([tmp_tensor1, tmp_tensor2], dim=2)\n",
        "print('Stacked Tensor ', stack_tensor.shape, '\\n', stack_tensor)"
      ],
      "metadata": {
        "id": "bnuoZDJJtTn-"
      },
      "execution_count": null,
      "outputs": []
    },
    {
      "cell_type": "markdown",
      "metadata": {
        "id": "LU1a6CgxiHwt"
      },
      "source": [
        "## **Mathematical Operations**\n"
      ]
    },
    {
      "cell_type": "code",
      "source": [
        "import torch"
      ],
      "metadata": {
        "id": "9zJTulywCO6t"
      },
      "execution_count": null,
      "outputs": []
    },
    {
      "cell_type": "code",
      "execution_count": null,
      "metadata": {
        "id": "HHks6PQ6MZxn"
      },
      "outputs": [],
      "source": [
        "tmp_tensor1 = torch.ones((3,3))\n",
        "tmp_tensor2 = torch.rand((3,3))\n",
        "tmp_tensor3 = torch.rand((3,1))\n",
        "print('tmp_tensor1: ', tmp_tensor1, \"\\n\")\n",
        "print('tmp_tensor2: ', tmp_tensor2, \"\\n\")\n",
        "print('tmp_tensor3: ', tmp_tensor3, \"\\n\")"
      ]
    },
    {
      "cell_type": "markdown",
      "source": [
        "Basic operations: element-wise"
      ],
      "metadata": {
        "id": "5KMsxmwxugxM"
      }
    },
    {
      "cell_type": "code",
      "execution_count": null,
      "metadata": {
        "id": "FvPDrbatMrfp"
      },
      "outputs": [],
      "source": [
        "print(tmp_tensor1+10)\n",
        "\n",
        "print(tmp_tensor1*2)\n",
        "\n",
        "print(tmp_tensor1 + tmp_tensor2)"
      ]
    },
    {
      "cell_type": "markdown",
      "metadata": {
        "id": "2tDFeHxi1bmG"
      },
      "source": [
        "Multiplication: element-wise"
      ]
    },
    {
      "cell_type": "code",
      "execution_count": null,
      "metadata": {
        "id": "kq8kKFbD1b0P"
      },
      "outputs": [],
      "source": [
        "print(tmp_tensor1*tmp_tensor2)"
      ]
    },
    {
      "cell_type": "markdown",
      "metadata": {
        "id": "6RO9jTnBzeh5"
      },
      "source": [
        "### Vector/Matrix operations"
      ]
    },
    {
      "cell_type": "markdown",
      "metadata": {
        "id": "2U1kjDffHVEs"
      },
      "source": [
        "Vector x Vector"
      ]
    },
    {
      "cell_type": "code",
      "source": [
        "tmp_tensor1 = torch.rand((3))\n",
        "tmp_tensor2 = torch.rand((3))\n",
        "\n",
        "print('tmp_tensor1: ', tmp_tensor1, \"\\n\")\n",
        "print('tmp_tensor2: ', tmp_tensor2, \"\\n\")"
      ],
      "metadata": {
        "id": "vLRd3mlnGHY_"
      },
      "execution_count": null,
      "outputs": []
    },
    {
      "cell_type": "code",
      "execution_count": null,
      "metadata": {
        "id": "xbAdLitqHVOG"
      },
      "outputs": [],
      "source": [
        "print(torch.matmul(tmp_tensor1, tmp_tensor2), torch.matmul(tmp_tensor1, tmp_tensor2).size())\n",
        "print((tmp_tensor1 @ tmp_tensor2), (tmp_tensor1 @ tmp_tensor2).size())"
      ]
    },
    {
      "cell_type": "markdown",
      "metadata": {
        "id": "8xuK3iKaHVWY"
      },
      "source": [
        "Matrix x Vector"
      ]
    },
    {
      "cell_type": "code",
      "source": [
        "tmp_tensor1 = torch.rand((2, 3))\n",
        "tmp_tensor2 = torch.rand((3))\n",
        "\n",
        "print('tmp_tensor1: \\n', tmp_tensor1, \"\\n\")\n",
        "print('tmp_tensor2: ', tmp_tensor2, \"\\n\")"
      ],
      "metadata": {
        "id": "smfqBX64GnQF"
      },
      "execution_count": null,
      "outputs": []
    },
    {
      "cell_type": "code",
      "execution_count": null,
      "metadata": {
        "id": "L1fGODGTHVdm"
      },
      "outputs": [],
      "source": [
        "print(torch.matmul(tmp_tensor1, tmp_tensor2), torch.matmul(tmp_tensor1, tmp_tensor2).size())\n",
        "print((tmp_tensor1 @ tmp_tensor2), (tmp_tensor1 @ tmp_tensor2).size())"
      ]
    },
    {
      "cell_type": "markdown",
      "metadata": {
        "id": "EcGk9TKaHVkk"
      },
      "source": [
        "Batched Matrix x Vector"
      ]
    },
    {
      "cell_type": "code",
      "source": [
        "tmp_tensor1 = torch.rand((4, 2, 3))\n",
        "tmp_tensor2 = torch.rand((3))\n",
        "\n",
        "print('tmp_tensor1: \\n', tmp_tensor1, \"\\n\")\n",
        "print('tmp_tensor2: ', tmp_tensor2, \"\\n\")"
      ],
      "metadata": {
        "id": "3f6p4Z_WG3Vc"
      },
      "execution_count": null,
      "outputs": []
    },
    {
      "cell_type": "code",
      "execution_count": null,
      "metadata": {
        "id": "pj1fWL6sHVrY"
      },
      "outputs": [],
      "source": [
        "print(torch.matmul(tmp_tensor1, tmp_tensor2), torch.matmul(tmp_tensor1, tmp_tensor2).size())\n",
        "print((tmp_tensor1 @ tmp_tensor2), (tmp_tensor1 @ tmp_tensor2).size())"
      ]
    },
    {
      "cell_type": "markdown",
      "metadata": {
        "id": "XBJys_CZHVxV"
      },
      "source": [
        "Batched Matrix x Batched Matrix"
      ]
    },
    {
      "cell_type": "code",
      "source": [
        "tmp_tensor1 = torch.rand((4, 2, 3))\n",
        "tmp_tensor2 = torch.rand((4, 3, 2))\n",
        "\n",
        "print('tmp_tensor1: \\n', tmp_tensor1, \"\\n\")\n",
        "print('tmp_tensor2: ', tmp_tensor2, \"\\n\")"
      ],
      "metadata": {
        "id": "29suH-dDHM7O"
      },
      "execution_count": null,
      "outputs": []
    },
    {
      "cell_type": "code",
      "execution_count": null,
      "metadata": {
        "id": "xTqo82cOHV3s"
      },
      "outputs": [],
      "source": [
        "print(torch.matmul(tmp_tensor1, tmp_tensor2), torch.matmul(tmp_tensor1, tmp_tensor2).size())\n",
        "print((tmp_tensor1 @ tmp_tensor2), (tmp_tensor1 @ tmp_tensor2).size())"
      ]
    },
    {
      "cell_type": "markdown",
      "metadata": {
        "id": "y_bKeCpjzLNQ"
      },
      "source": [
        "### Reduction operations\n",
        "Common reduction operations: sum(), mean(), std(), max(), argmax(), prod(), unique() etc."
      ]
    },
    {
      "cell_type": "code",
      "execution_count": null,
      "metadata": {
        "id": "XD0cbGhInpsl"
      },
      "outputs": [],
      "source": [
        "tmp_tensor1 = torch.ones((3,3))\n",
        "tmp_tensor2 = torch.rand((2,3,3))\n",
        "print('tmp_tensor1: \\n', tmp_tensor1, \"\\n\")\n",
        "print('tmp_tensor2: \\n', tmp_tensor2, \"\\n\")"
      ]
    },
    {
      "cell_type": "code",
      "source": [
        "print('Sum: ', tmp_tensor1.sum())\n",
        "print('Sum: ', torch.sum(tmp_tensor1))\n",
        "\n",
        "print('Sum along axis 0: ', tmp_tensor1.sum(axis=0))\n",
        "print('Sum along axis 0: ', torch.sum(tmp_tensor1, axis=0))\n"
      ],
      "metadata": {
        "id": "5BhSLGwMvxQz"
      },
      "execution_count": null,
      "outputs": []
    },
    {
      "cell_type": "code",
      "source": [
        "print('Sum: ', tmp_tensor2.sum())\n",
        "print('Sum: ', torch.sum(tmp_tensor2))\n",
        "\n",
        "print('Sum along axis 0: ', tmp_tensor2.sum(axis=0))\n",
        "print('Sum along axis 0: ', torch.sum(tmp_tensor2, axis=0))"
      ],
      "metadata": {
        "id": "E6Fz0gxHEfH4"
      },
      "execution_count": null,
      "outputs": []
    },
    {
      "cell_type": "markdown",
      "metadata": {
        "id": "xbGyUPa6zUnq"
      },
      "source": [
        "### Comparison operations"
      ]
    },
    {
      "cell_type": "code",
      "source": [
        "tmp_tensor1 = 0.5 * torch.ones((3,3))\n",
        "tmp_tensor2 = torch.rand((3,3))\n",
        "print('tmp_tensor1: \\n', tmp_tensor1, \"\\n\")\n",
        "print('tmp_tensor2: \\n', tmp_tensor2, \"\\n\")"
      ],
      "metadata": {
        "id": "r4pe60o7E20t"
      },
      "execution_count": null,
      "outputs": []
    },
    {
      "cell_type": "code",
      "source": [
        "print('Greater than: \\n', tmp_tensor1 > tmp_tensor2)\n",
        "\n",
        "print('Not equal to each other: \\n', tmp_tensor1 != tmp_tensor2)"
      ],
      "metadata": {
        "id": "PH5QGqXuFJVz"
      },
      "execution_count": null,
      "outputs": []
    },
    {
      "cell_type": "markdown",
      "source": [
        "Comparison with Boolean tensors"
      ],
      "metadata": {
        "id": "LmbJRNGPFijX"
      }
    },
    {
      "cell_type": "code",
      "source": [
        "print('Any - greatehr than : ', (tmp_tensor1 > tmp_tensor2).any())\n",
        "print('All - greatehr than : ', (tmp_tensor1 > tmp_tensor2).all())\n",
        "\n",
        "print('Any - greatehr than - along axi 0: ', (tmp_tensor1 > tmp_tensor2).any(axis=0))\n",
        "print('Any - greatehr than - along axis 1: ', (tmp_tensor1 > tmp_tensor2).any(axis=1))\n",
        "\n",
        "print('Any - equal to each other: ', torch.any(tmp_tensor1 == tmp_tensor2))\n",
        "print('All - not equal to eather other: ', torch.all(tmp_tensor1 != tmp_tensor2))"
      ],
      "metadata": {
        "id": "mwnJihO3FHpG"
      },
      "execution_count": null,
      "outputs": []
    }
  ],
  "metadata": {
    "colab": {
      "provenance": []
    },
    "kernelspec": {
      "display_name": "Python 3",
      "name": "python3"
    },
    "language_info": {
      "name": "python"
    },
    "gpuClass": "standard"
  },
  "nbformat": 4,
  "nbformat_minor": 0
}