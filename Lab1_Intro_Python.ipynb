{
  "nbformat": 4,
  "nbformat_minor": 0,
  "metadata": {
    "anaconda-cloud": {},
    "celltoolbar": "Slideshow",
    "kernelspec": {
      "display_name": "Python 3",
      "language": "python",
      "name": "python3"
    },
    "language_info": {
      "codemirror_mode": {
        "name": "ipython",
        "version": 3
      },
      "file_extension": ".py",
      "mimetype": "text/x-python",
      "name": "python",
      "nbconvert_exporter": "python",
      "pygments_lexer": "ipython3",
      "version": "3.7.3"
    },
    "colab": {
      "provenance": []
    }
  },
  "cells": [
    {
      "cell_type": "markdown",
      "source": [
        "# **What is Python?**\n",
        "\n",
        "*   Invented in early 90s by Guido van Rossum\n",
        "*   Considered as a scripting language (now, it is much more than that)\n",
        "*   Provide a huge collection of libraries\n",
        "*   Pre-installed in Linux and MAC OS X\n",
        "*   Several IDEs such as IDLE (Windows), Eclipse, ...\n",
        "\n"
      ],
      "metadata": {
        "id": "vbKW4UQB6cJS"
      }
    },
    {
      "cell_type": "markdown",
      "source": [
        "## **Python Essentials**\n",
        "\n",
        "1.   Data Types\n",
        "2.   Conditional and loop statements\n",
        "3.   Functions\n",
        "\n"
      ],
      "metadata": {
        "id": "jkI3icIxB-e_"
      }
    },
    {
      "cell_type": "markdown",
      "source": [
        "## **Data Types**\n",
        "\n",
        "*   Numeric type: int, float, complex\n",
        "*   Sequence type: list, tuple, range\n",
        "*   Set type: set, frozenset\n",
        "*   Mapping type: dict\n",
        "*   Text type: str\n",
        "*   Boolean type: bool\n",
        "*   ..."
      ],
      "metadata": {
        "id": "qznRB8VvC0gm"
      }
    },
    {
      "cell_type": "markdown",
      "source": [
        "### **Numeric Type**"
      ],
      "metadata": {
        "id": "ghKhqCk1DT3p"
      }
    },
    {
      "cell_type": "code",
      "source": [
        "# Assign an integer value to a variable\n",
        "\n",
        "count = 1\n",
        "number = 2\n",
        "\n",
        "print(count)\n",
        "print(number)\n",
        "\n",
        "# Assign a floating point number to a variable\n",
        "\n",
        "float_count = 1.0\n",
        "float_number = 2.3\n",
        "\n",
        "print(\"Count = \", float_count)\n",
        "print(\"Count = \", float_count, \" and Number =\", float_number)"
      ],
      "metadata": {
        "id": "SgySZ_TuDs4G"
      },
      "execution_count": null,
      "outputs": []
    },
    {
      "cell_type": "code",
      "source": [
        "# Converting float to int\n",
        "\n",
        "float_number = 2.3\n",
        "int_number = int(float_number)\n",
        "\n",
        "print(\"Integer equivalence = \", int_number)\n",
        "\n",
        "# Arithmetic operation\n",
        "\n",
        "result = float_number / 10\n",
        "\n",
        "print(\"Result = \", result)"
      ],
      "metadata": {
        "id": "RhRBqVY6EeXR"
      },
      "execution_count": null,
      "outputs": []
    },
    {
      "cell_type": "code",
      "source": [
        "\n",
        "print(\"Integer equivalent of float number: \"+str(convVar))\n",
        "print(\"Note: int function floors the decimal/ float value\")\n",
        "print(\"You can do various mathematical operations with int variables such as addition(+), subtraction (-), division (/), multiplication (*), floored quotient (//), remainder (%), etc.\")\n",
        "print(\"You can try these yourselves as an exercise\")"
      ],
      "metadata": {
        "id": "IfWr2VOpFJgU"
      },
      "execution_count": null,
      "outputs": []
    },
    {
      "cell_type": "markdown",
      "source": [
        "### **Sequence Type**"
      ],
      "metadata": {
        "id": "S_EfzVGPD-SN"
      }
    },
    {
      "cell_type": "markdown",
      "metadata": {
        "id": "mL_ismvtsH2M"
      },
      "source": [
        "### List\n",
        "\n",
        "*   One of the most fundamental data structure in Python\n",
        "*   Simply an ordered collections (similar to array, but with some added functionality) \n",
        "*   Can be indexed and store heterogeneous items"
      ]
    },
    {
      "cell_type": "markdown",
      "source": [
        "Construct lists"
      ],
      "metadata": {
        "id": "oybCu4apIJ1I"
      }
    },
    {
      "cell_type": "code",
      "metadata": {
        "id": "cqh7oHnfsH2Q"
      },
      "source": [
        "str_list = ['red', 'blue', 'green']\n",
        "integer_list = [1,2,3]\n",
        "heterogeneous_list = ['string', 0.1, True]\n",
        "list_of_lists = [str_list, integer_list, heterogeneous_list, []]\n",
        "\n",
        "print(str_list)\n",
        "print(integer_list)\n",
        "print(heterogeneous_list)\n",
        "print(list_of_lists)"
      ],
      "execution_count": null,
      "outputs": []
    },
    {
      "cell_type": "code",
      "metadata": {
        "id": "MIKb--9BsH2X"
      },
      "source": [
        "# Operations on a list\n",
        "\n",
        "list_length = len(integer_list)\n",
        "list_sum = sum(integer_list)\n",
        "\n",
        "print(list_length, list_sum)"
      ],
      "execution_count": null,
      "outputs": []
    },
    {
      "cell_type": "markdown",
      "metadata": {
        "id": "2bkNl9PvsH2l"
      },
      "source": [
        "Use square brackets to slice lists "
      ]
    },
    {
      "cell_type": "code",
      "source": [
        "x = [2, 4, 6, 8, 10]\n",
        "print(x)\n",
        "\n",
        "zero = x[0]\n",
        "one = x[1]\n",
        "nine = x[-1]          # last element \n",
        "eight = x[-2]         # next to last element \n",
        "\n",
        "print(\"Element: \", zero, one, nine, eight)"
      ],
      "metadata": {
        "id": "4aoTqYj3IbMA"
      },
      "execution_count": null,
      "outputs": []
    },
    {
      "cell_type": "code",
      "metadata": {
        "id": "lgacLp_isH2m"
      },
      "source": [
        "x = [1, 3, 5, 7, 9, 11, 13]\n",
        "print(x)\n",
        "\n",
        "first_three = x[:3]\n",
        "three_to_end = x[3:]\n",
        "one_to_four = x[1:5]\n",
        "last_three = x[-3:]\n",
        "copy_of_x = x[:]\n",
        "\n",
        "print(\"Elements: \", first_three, three_to_end, one_to_four, last_three)\n",
        "print(copy_of_x)"
      ],
      "execution_count": null,
      "outputs": []
    },
    {
      "cell_type": "markdown",
      "metadata": {
        "id": "xGnC0VQhsH2s"
      },
      "source": [
        "Concatenate lists together"
      ]
    },
    {
      "cell_type": "code",
      "metadata": {
        "id": "WsOKctgdsH2u"
      },
      "source": [
        "x = [1,2,3]\n",
        "x.extend([4,5,6])\n",
        "\n",
        "print(x)"
      ],
      "execution_count": null,
      "outputs": []
    },
    {
      "cell_type": "code",
      "metadata": {
        "id": "RcfdA1TUsH20"
      },
      "source": [
        "x = [1,2,3]\n",
        "y = x + [4,5,6]\n",
        "\n",
        "print(y)"
      ],
      "execution_count": null,
      "outputs": []
    },
    {
      "cell_type": "markdown",
      "metadata": {
        "id": "mosyJsdVsH26"
      },
      "source": [
        "append one item to list"
      ]
    },
    {
      "cell_type": "code",
      "metadata": {
        "id": "jkfA2ciLsH28"
      },
      "source": [
        "x = [1,2,3]\n",
        "x.append(0)\n",
        "print(x)"
      ],
      "execution_count": null,
      "outputs": []
    },
    {
      "cell_type": "code",
      "metadata": {
        "id": "NI1KwszVsH1F"
      },
      "source": [
        "list_of_lists = [[1,2,3],[4,5,6],[7,8,9]]\n",
        "\n",
        "easier_to_read_list_of_lists = [[1,2,3],\n",
        "                                [4,5,6],\n",
        "                                [7,8,9]]"
      ],
      "execution_count": null,
      "outputs": []
    },
    {
      "cell_type": "markdown",
      "metadata": {
        "id": "kCUz2SlZsH3C"
      },
      "source": [
        "### Tuples\n",
        "\n",
        "*   Tuples are lists' immutable (unchangeable) cousins\n",
        "*   Specify a tuple by using parentheses. (or nothing)"
      ]
    },
    {
      "cell_type": "code",
      "metadata": {
        "id": "jpbnhHYX0-pX"
      },
      "source": [
        "my_list = [1,2]\n",
        "my_tuple = (1,2)    # use this instead of other_tuple\n",
        "other_tuple = 3, 4   \n",
        "\n",
        "print(my_list)\n",
        "print(my_tuple)\n",
        "print(other_tuple)\n",
        "\n",
        "# indexing is similar to list\n",
        "print(my_tuple[1])"
      ],
      "execution_count": null,
      "outputs": []
    },
    {
      "cell_type": "code",
      "source": [
        "print(type(my_list))\n",
        "print(type(my_tuple))"
      ],
      "metadata": {
        "id": "dVMqWhy1J-eH"
      },
      "execution_count": null,
      "outputs": []
    },
    {
      "cell_type": "markdown",
      "metadata": {
        "id": "UkvzBc4KsH3Q"
      },
      "source": [
        "Try to change some values in list and tuple"
      ]
    },
    {
      "cell_type": "code",
      "metadata": {
        "id": "ur-6k4XZ1B-k"
      },
      "source": [
        "my_list[0] = 2 \n",
        "print(my_list)\n",
        "\n",
        "my_list[1] = 5 \n",
        "print(my_list)"
      ],
      "execution_count": null,
      "outputs": []
    },
    {
      "cell_type": "code",
      "metadata": {
        "id": "44ON8vWmD2DI"
      },
      "source": [
        "my_tuple[1] = 3"
      ],
      "execution_count": null,
      "outputs": []
    },
    {
      "cell_type": "markdown",
      "source": [
        "### Range\n",
        "\n",
        "*   Useful for iterations\n",
        "*   Immutable similar to Tuple"
      ],
      "metadata": {
        "id": "bbekhLE5HrVU"
      }
    },
    {
      "cell_type": "code",
      "metadata": {
        "id": "po8gdSrzsH2e"
      },
      "source": [
        "x = range(0,10)\n",
        "print(x)\n",
        "print(list(x))\n",
        "\n",
        "y = range(2, 20, 2)\n",
        "print(y)\n",
        "print(list(y))"
      ],
      "execution_count": null,
      "outputs": []
    },
    {
      "cell_type": "code",
      "source": [
        "x = range(2, 12, 2)\n",
        "print(list(x))        # x = [2, 4, 6, 8, 10]\n",
        "\n",
        "zero = x[0]\n",
        "one = x[1]\n",
        "nine = x[-1]          # last element \n",
        "eight = x[-2]         # next to last element \n",
        "\n",
        "print(\"Element: \", zero, one, nine, eight)"
      ],
      "metadata": {
        "id": "nCZu_WELKVyL"
      },
      "execution_count": null,
      "outputs": []
    },
    {
      "cell_type": "markdown",
      "source": [
        "### **Text Type : str**"
      ],
      "metadata": {
        "id": "HwrpOjz_H-Eg"
      }
    },
    {
      "cell_type": "code",
      "metadata": {
        "id": "BkwZPjiI07BF"
      },
      "source": [
        "single_quoted_string = 'ML&intelligence'\n",
        "double_quoted_string = \"ML&intelligence\"\n",
        "\n",
        "print(single_quoted_string, double_quoted_string)"
      ],
      "execution_count": null,
      "outputs": []
    },
    {
      "cell_type": "code",
      "source": [
        "dept = 'KECE'\n",
        "no = 345\n",
        "course_no = dept + str(no)\n",
        "\n",
        "print(course_no)"
      ],
      "metadata": {
        "id": "uS9qJQm_MV0a"
      },
      "execution_count": null,
      "outputs": []
    },
    {
      "cell_type": "markdown",
      "metadata": {
        "id": "WJRdFyVwsH32"
      },
      "source": [
        "### **Mapping Type** : Dictionaries\n",
        "\n",
        "*   Store items in key-value paris\n",
        "*   Allow us to quickly retrieve the value corresponding to a given key\n",
        "*   Keys must be unique\n",
        "\n"
      ]
    },
    {
      "cell_type": "code",
      "metadata": {
        "id": "6D8v9t1YsH35"
      },
      "source": [
        "# list => []\n",
        "# tuple => ()\n",
        "# dictionary => {} or dict()"
      ],
      "execution_count": null,
      "outputs": []
    },
    {
      "cell_type": "code",
      "metadata": {
        "id": "3W1PlAUo1HYW"
      },
      "source": [
        "empty_dict = dict()\n",
        "empty_dict = {}         # more pythonic \n",
        "\n",
        "grades1 = dict(Joel=90, Tim=75)\n",
        "grades2 = {\"Josh\": 80, \"Tom\": 95}\n",
        "grades3 = {'John': 60, 'Tan': 85}\n",
        "\n",
        "print(grades1)\n",
        "print(grades2)\n",
        "print(grades3)\n",
        "\n",
        "# use zip function\n",
        "grades4 = dict(zip(['Joel', 'Tim'], [90, 75]))\n",
        "\n",
        "# use tuples/lists\n",
        "grades5 = dict([('Josh', 80), ('Tim', 95)])\n",
        "grades6 = dict([['John', 60], ['Tan', 85]])\n",
        "\n",
        "print(grades4)\n",
        "print(grades5)\n",
        "print(grades6)\n",
        "\n",
        "joels_grade = grades2[\"Josh\"]\n",
        "print(joels_grade)"
      ],
      "execution_count": null,
      "outputs": []
    },
    {
      "cell_type": "markdown",
      "source": [
        "Dictionary operations"
      ],
      "metadata": {
        "id": "JV8j9qj_Y5sW"
      }
    },
    {
      "cell_type": "code",
      "metadata": {
        "id": "gaX5odyT1I5M"
      },
      "source": [
        "\"Joel\" in grades1"
      ],
      "execution_count": null,
      "outputs": []
    },
    {
      "cell_type": "code",
      "source": [
        "\"Joel\" in grades2"
      ],
      "metadata": {
        "id": "YP-kQrKsYfbv"
      },
      "execution_count": null,
      "outputs": []
    },
    {
      "cell_type": "code",
      "source": [
        "num_students = len(grades1)\n",
        "print(num_students)"
      ],
      "metadata": {
        "id": "htprVYihaA7e"
      },
      "execution_count": null,
      "outputs": []
    },
    {
      "cell_type": "code",
      "metadata": {
        "id": "VTNdetz51KOC"
      },
      "source": [
        "print(grades1)\n",
        "\n",
        "grades1[\"Tim\"] = 99     # replace\n",
        "print(grades1)\n",
        "\n",
        "grades1[\"Alice\"] = 40   # new item\n",
        "print(grades1)"
      ],
      "execution_count": null,
      "outputs": []
    },
    {
      "cell_type": "markdown",
      "source": [
        "Get the value of a dictionary item"
      ],
      "metadata": {
        "id": "427ADqyxZYuO"
      }
    },
    {
      "cell_type": "code",
      "metadata": {
        "id": "CTlzQ2sk1Lzf"
      },
      "source": [
        "print(grades1.get(\"Joel\"))\n",
        "\n",
        "john_grade = grades1.get(\"John\")\n",
        "john_grade2 = grades1.get(\"John\", -100)\n",
        "\n",
        "print(john_grade)\n",
        "print(john_grade2)\n"
      ],
      "execution_count": null,
      "outputs": []
    },
    {
      "cell_type": "markdown",
      "source": [
        "## **Conditional and loop statements**"
      ],
      "metadata": {
        "id": "0pC4D7wxaJt-"
      }
    },
    {
      "cell_type": "markdown",
      "metadata": {
        "id": "oygjCxy2XBrs"
      },
      "source": [
        "### **If-else**"
      ]
    },
    {
      "cell_type": "code",
      "metadata": {
        "id": "LWpYIHnwXTGr"
      },
      "source": [
        "a = 100\n",
        "b = 200\n",
        "\n",
        "print(a == b)\n",
        "print(a is b)\n",
        "print(a is not b)\n",
        "print(a == 100 and b == 200)\n",
        "print(not (a > 200))"
      ],
      "execution_count": null,
      "outputs": []
    },
    {
      "cell_type": "code",
      "metadata": {
        "id": "Zj12CGLIYE-_"
      },
      "source": [
        "if a > b:\n",
        "  print('a is greater than b')\n",
        "elif a < b:\n",
        "  print('b is greater than a')\n",
        "else:\n",
        "  print('a is equal to b')"
      ],
      "execution_count": null,
      "outputs": []
    },
    {
      "cell_type": "code",
      "metadata": {
        "id": "qXCIEKgSYj_Z"
      },
      "source": [
        "score = int(input(\"Enter score: \"))   # user input\n",
        "if score > 70:\n",
        "  grade = \"Pass\"\n",
        "else:\n",
        "  grade = \"Fail\"\n",
        "print(grade)"
      ],
      "execution_count": null,
      "outputs": []
    },
    {
      "cell_type": "markdown",
      "metadata": {
        "id": "5L_yBtyosH0t"
      },
      "source": [
        "### **Loops: for & while**"
      ]
    },
    {
      "cell_type": "markdown",
      "source": [
        "Iterate through a sequence"
      ],
      "metadata": {
        "id": "OlVDHJ5zbEG1"
      }
    },
    {
      "cell_type": "code",
      "metadata": {
        "id": "an93LDG0sH0z"
      },
      "source": [
        "for i in [1,2,3]:\n",
        "    print (i)\n",
        "    for j in [1,2,3]:\n",
        "        print (j, \":\", i+j)\n",
        "    print (i) \n",
        "print (\"done looping\")"
      ],
      "execution_count": null,
      "outputs": []
    },
    {
      "cell_type": "markdown",
      "source": [
        "Iterate through a rnage of numbers"
      ],
      "metadata": {
        "id": "ue8IA749bGEd"
      }
    },
    {
      "cell_type": "code",
      "metadata": {
        "id": "r_MA2G5e1QAL"
      },
      "source": [
        "for i in range(3,6):\n",
        "  print(i)"
      ],
      "execution_count": null,
      "outputs": []
    },
    {
      "cell_type": "markdown",
      "source": [
        "While loop"
      ],
      "metadata": {
        "id": "qESN9_wNbWV9"
      }
    },
    {
      "cell_type": "code",
      "source": [
        "a = 1\n",
        "while a < 5:\n",
        "  a = a * 2;\n",
        "  print(a)\n",
        "print('Result = ', a)"
      ],
      "metadata": {
        "id": "1pEEdyXYbK3W"
      },
      "execution_count": null,
      "outputs": []
    },
    {
      "cell_type": "markdown",
      "metadata": {
        "id": "KOdatZGTsH1U"
      },
      "source": [
        "## **Functions**\n",
        "\n",
        "Python functions are first-class, which means that we can assign \n",
        "them to variables and pass them into functions just like any other arguments"
      ]
    },
    {
      "cell_type": "code",
      "metadata": {
        "id": "PL_I6nf-1RxF"
      },
      "source": [
        "def make_double(x):\n",
        "    return x * 2"
      ],
      "execution_count": null,
      "outputs": []
    },
    {
      "cell_type": "code",
      "source": [
        "print(make_double(4))"
      ],
      "metadata": {
        "id": "N5teMHdwbtQh"
      },
      "execution_count": null,
      "outputs": []
    },
    {
      "cell_type": "code",
      "metadata": {
        "id": "vAIk1Yk21TAr"
      },
      "source": [
        "def apply_to_one(f):          # a function that feeds 1 into another function\n",
        "    return f(1)\n"
      ],
      "execution_count": null,
      "outputs": []
    },
    {
      "cell_type": "code",
      "metadata": {
        "id": "UQgHt_sR1Uk-"
      },
      "source": [
        "my_double = make_double       # refers to the previously defined function \n",
        "x = apply_to_one(my_double)\n",
        "\n",
        "print(x)"
      ],
      "execution_count": null,
      "outputs": []
    },
    {
      "cell_type": "markdown",
      "metadata": {
        "id": "DLykhbVcsH1t"
      },
      "source": [
        "Easy to create short anonymous functions, or lambdas: "
      ]
    },
    {
      "cell_type": "code",
      "metadata": {
        "id": "LmF0hyxl1WEM"
      },
      "source": [
        "y = apply_to_one(lambda x: x+4)\n",
        "print(y)"
      ],
      "execution_count": null,
      "outputs": []
    },
    {
      "cell_type": "code",
      "metadata": {
        "id": "O8-lVUuzjZkA"
      },
      "source": [
        "def times_two(x):\n",
        "    return x*2\n",
        "\n",
        "times_two(3)"
      ],
      "execution_count": null,
      "outputs": []
    },
    {
      "cell_type": "code",
      "metadata": {
        "id": "-VSGzhC0j0VL"
      },
      "source": [
        "times_two = lambda x: x*2\n",
        "\n",
        "times_two(4)"
      ],
      "execution_count": null,
      "outputs": []
    },
    {
      "cell_type": "markdown",
      "metadata": {
        "id": "45q-EPYDsH12"
      },
      "source": [
        "Function parameters can also be given default arguments, which only need to be specified when you want a value other than the default: "
      ]
    },
    {
      "cell_type": "code",
      "metadata": {
        "id": "cx0XojB71YA7"
      },
      "source": [
        "def my_print(message=\"my default message\"):\n",
        "    print(message)\n",
        "    \n",
        "my_print(\"hello\")\n",
        "my_print()"
      ],
      "execution_count": null,
      "outputs": []
    },
    {
      "cell_type": "code",
      "metadata": {
        "id": "2sjJEbDF1Zgt"
      },
      "source": [
        "def subtract(a=0, b=0):\n",
        "    return a-b\n",
        "\n",
        "print(subtract(10,5))\n",
        "print(subtract(0,5))\n",
        "print(subtract(b=5))"
      ],
      "execution_count": null,
      "outputs": []
    },
    {
      "cell_type": "markdown",
      "metadata": {
        "id": "vs7ndAvR2S9b"
      },
      "source": [
        "Tuples are a convenient way to return multiple values from functions: "
      ]
    },
    {
      "cell_type": "code",
      "metadata": {
        "id": "IKit1gTDsH3p"
      },
      "source": [
        "def sum_and_product(x,y):\n",
        "    return (x+y),(x*y)\n",
        "\n",
        "sp = sum_and_product(2,3)\n",
        "print(\"sum and product = \", sp)\n",
        "\n",
        "a, b = sum_and_product(2,3)\n",
        "print(\"sum = \", a, \"product = \", b) \n",
        "\n",
        "_, b = sum_and_product(2,3)\n",
        "print(\"product = \", b)"
      ],
      "execution_count": null,
      "outputs": []
    },
    {
      "cell_type": "code",
      "metadata": {
        "id": "tCd_55OFsH3w"
      },
      "source": [
        "def sum_subtract_product(x,y):\n",
        "    return (x+y),(x-y),(x*y)\n",
        "\n",
        "result = sum_subtract_product(4,5)\n",
        "print(result)"
      ],
      "execution_count": null,
      "outputs": []
    },
    {
      "cell_type": "markdown",
      "metadata": {
        "id": "VFeFBXFbDLJz"
      },
      "source": [
        "Let's consdier a case where you want to multiply each element in a list by 2"
      ]
    },
    {
      "cell_type": "code",
      "metadata": {
        "id": "zwbtsmsZDCpT"
      },
      "source": [
        "x = [1,2,3,4]\n",
        "y = 2*x\n",
        "print(y)"
      ],
      "execution_count": null,
      "outputs": []
    },
    {
      "cell_type": "code",
      "metadata": {
        "id": "7YUbMdn-DQik"
      },
      "source": [
        "def mul2(x):\n",
        "    return 2*x\n",
        "\n",
        "print(mul2(3))"
      ],
      "execution_count": null,
      "outputs": []
    },
    {
      "cell_type": "code",
      "metadata": {
        "id": "veGqEJCcDVwD"
      },
      "source": [
        "x = [1,2,3,4]\n",
        "y = []\n",
        "for i in x:\n",
        "    y.append(mul2(i))\n",
        "print(y)"
      ],
      "execution_count": null,
      "outputs": []
    },
    {
      "cell_type": "markdown",
      "source": [
        "Better Pythonic code"
      ],
      "metadata": {
        "id": "mMQTikIoo6kj"
      }
    },
    {
      "cell_type": "code",
      "source": [
        "y = [mul2(i) for i in x]\n",
        "print(y)"
      ],
      "metadata": {
        "id": "P9ihWsuvo3PX"
      },
      "execution_count": null,
      "outputs": []
    },
    {
      "cell_type": "markdown",
      "metadata": {
        "id": "J2x2UxZrCD20"
      },
      "source": [
        "### Map\n",
        "\n",
        "*   Apply a function to each element of an iterable\n",
        "*   Return a list containing the result of those operations\n",
        "*   map(f, S): f is a function that takes one argument and returns a value, S is any iterable"
      ]
    },
    {
      "cell_type": "code",
      "metadata": {
        "id": "LIN4IVEYsH5c"
      },
      "source": [
        "y = map(mul2, x)\n",
        "list(y)"
      ],
      "execution_count": null,
      "outputs": []
    },
    {
      "cell_type": "code",
      "metadata": {
        "id": "Wc0CilJEsH5h"
      },
      "source": [
        "y = map(lambda z: z+200, [3, 4, 5, 6])\n",
        "list(y)"
      ],
      "execution_count": null,
      "outputs": []
    }
  ]
}