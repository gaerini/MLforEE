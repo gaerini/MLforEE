{
  "nbformat": 4,
  "nbformat_minor": 0,
  "metadata": {
    "anaconda-cloud": {},
    "celltoolbar": "Slideshow",
    "kernelspec": {
      "display_name": "Python 3",
      "language": "python",
      "name": "python3"
    },
    "language_info": {
      "codemirror_mode": {
        "name": "ipython",
        "version": 3
      },
      "file_extension": ".py",
      "mimetype": "text/x-python",
      "name": "python",
      "nbconvert_exporter": "python",
      "pygments_lexer": "ipython3",
      "version": "3.7.3"
    },
    "colab": {
      "provenance": []
    }
  },
  "cells": [
    {
      "cell_type": "markdown",
      "metadata": {
        "collapsed": true,
        "id": "wUI--2hesH4a"
      },
      "source": [
        "# **Visualization: Matplotlib - Pyplot**\n",
        "\n",
        "*   Visualization library for Python\n",
        "*   Built on NumPy\n",
        "\n"
      ]
    },
    {
      "cell_type": "code",
      "metadata": {
        "id": "GHFAx81hsH4e"
      },
      "source": [
        "import matplotlib.pyplot as plt\n",
        "import numpy as np"
      ],
      "execution_count": null,
      "outputs": []
    },
    {
      "cell_type": "markdown",
      "metadata": {
        "id": "7FNWuU398Ho-"
      },
      "source": [
        "## **Visualization: Line graph**"
      ]
    },
    {
      "cell_type": "code",
      "metadata": {
        "id": "7xQjqPPCsH4i"
      },
      "source": [
        "plt.plot([1980, 1990, 2000, 2010], [1100, 1200, 1450, 1570])\n",
        "plt.show()"
      ],
      "execution_count": null,
      "outputs": []
    },
    {
      "cell_type": "code",
      "metadata": {
        "id": "HmlJqlfB8P8D"
      },
      "source": [
        "plt.plot([1980, 1990, 2000, 2010], [1100, 1200, 1450, 1570], color='blue', marker='o', linestyle='solid')\n",
        "plt.title('Price Trend')\n",
        "plt.ylabel('Price')\n",
        "plt.xlabel('Year')\n",
        "plt.show()"
      ],
      "execution_count": null,
      "outputs": []
    },
    {
      "cell_type": "code",
      "metadata": {
        "id": "5DRaHmbVsH4m"
      },
      "source": [
        "import matplotlib.pyplot as plt\n",
        "plt.plot([1980, 1990, 2000, 2010], [1100, 1200, 1450, 1570], 'bo')  # bo: blue circle\n",
        "plt.title('Price Trend')\n",
        "plt.ylabel('Price')\n",
        "plt.xlabel('Year')\n",
        "plt.show()"
      ],
      "execution_count": null,
      "outputs": []
    },
    {
      "cell_type": "code",
      "metadata": {
        "id": "NCW75MLDsH4r"
      },
      "source": [
        "plt.plot([1980, 1990, 2000, 2010], [1100, 1200, 1450, 1570], 'bo')  # bo: blue circle\n",
        "plt.title('Price Trend')\n",
        "plt.ylabel('Price')\n",
        "plt.xlabel('Year')\n",
        "plt.axis([1970, 2030, 1000, 2000])\n",
        "plt.show()"
      ],
      "execution_count": null,
      "outputs": []
    },
    {
      "cell_type": "code",
      "metadata": {
        "id": "Ops6PfiGsH40"
      },
      "source": [
        "plt.plot([1980, 1990, 2000, 2010], [1100, 1200, 1450, 1570], 'y>')  # y<: yellow triangle_left\n",
        "plt.title('Price Trend')\n",
        "plt.ylabel('Price')\n",
        "plt.xlabel('Year')\n",
        "plt.axis([1970, 2030, 1000, 2000])\n",
        "plt.show()"
      ],
      "execution_count": null,
      "outputs": []
    },
    {
      "cell_type": "code",
      "metadata": {
        "id": "pCYRIGXF-jPg"
      },
      "source": [
        "year = [1980, 1990, 2000, 2010]\n",
        "price1 = [1100, 1200, 1450, 1570]\n",
        "price2 = [1000, 1130, 1340, 1650]\n",
        "price3 = [1150, 1170, 1550, 1740]\n",
        "plt.plot(year, price1, 'bo-',\n",
        "         year, price2, 'r*:',\n",
        "         year, price3, 'gd-.')\n",
        "plt.title('Price Trend')\n",
        "plt.ylabel('Price')\n",
        "plt.xlabel('Year')\n",
        "plt.legend(['country1', 'country2', 'country3'])\n",
        "plt.show()"
      ],
      "execution_count": null,
      "outputs": []
    },
    {
      "cell_type": "markdown",
      "metadata": {
        "id": "ARQ9JxIJsH46"
      },
      "source": [
        "For more colors visit : https://matplotlib.org/users/colors.html"
      ]
    },
    {
      "cell_type": "markdown",
      "metadata": {
        "id": "9JLxRZThF87b"
      },
      "source": [
        "## **Visualization: Bar Chart**"
      ]
    },
    {
      "cell_type": "code",
      "metadata": {
        "id": "4hfYIKAGLz0Q"
      },
      "source": [
        "grades = [80, 95, 70]   # list\n",
        "names = ['Joel', 'Tim', 'Sam']"
      ],
      "execution_count": null,
      "outputs": []
    },
    {
      "cell_type": "code",
      "metadata": {
        "id": "8EsftBn2L_5i"
      },
      "source": [
        "plt.bar(range(len(grades)), grades, color='b', align='center')\n",
        "# plt.xticks(range(len(grades)), names)\n",
        "plt.show()"
      ],
      "execution_count": null,
      "outputs": []
    },
    {
      "cell_type": "code",
      "metadata": {
        "id": "PMcDswGzsH5t"
      },
      "source": [
        "grades = {\"Joel\": 80, \"Tim\": 95, \"Sam\":70}    # dictionary"
      ],
      "execution_count": null,
      "outputs": []
    },
    {
      "cell_type": "code",
      "metadata": {
        "id": "oMUIpjWLsH5x"
      },
      "source": [
        "plt.bar(range(len(grades)), grades.values(), color='b', align='center')\n",
        "plt.xticks(range(len(grades)), list(grades.keys()))\n",
        "plt.show()"
      ],
      "execution_count": null,
      "outputs": []
    },
    {
      "cell_type": "code",
      "metadata": {
        "id": "vFJiZ9VgGcVJ"
      },
      "source": [
        "plt.barh(range(len(grades)), grades.values(), align='center')\n",
        "plt.yticks(range(len(grades)), list(grades.keys()))\n",
        "plt.xlabel(\"grades\")\n",
        "\n",
        "plt.show()"
      ],
      "execution_count": null,
      "outputs": []
    },
    {
      "cell_type": "code",
      "metadata": {
        "id": "veypgzo6HO4J"
      },
      "source": [
        "grades1 = [80, 95, 70]   # list\n",
        "grades2 = [60, 75, 80]   # list\n",
        "names = ['Joel', 'Tim', 'Sam']\n",
        "\n",
        "bar_width = 0.35\n",
        "bar1 = plt.bar(np.arange(0, len(grades1)), grades1, \n",
        "               width=bar_width, color='b', label='subject1')\n",
        "bar2 = plt.bar(np.arange(0, len(grades2))+bar_width, grades2, \n",
        "               width=bar_width, color='r', label='subject2')\n",
        "plt.xticks(np.arange(len(grades)), names)\n",
        "#plt.xticks(np.arange(len(grades))+bar_width/2, names)\n",
        "\n",
        "plt.legend(loc='best')    # 'best', 'upper right', 'upper left', 'lower left', 'lower right', \n",
        "                          # 'right', 'center left', 'center right', 'lower center', 'upper center', 'center'\n",
        "\n",
        "plt.show()"
      ],
      "execution_count": null,
      "outputs": []
    }
  ]
}