{
  "nbformat": 4,
  "nbformat_minor": 0,
  "metadata": {
    "colab": {
      "provenance": []
    },
    "kernelspec": {
      "name": "python3",
      "display_name": "Python 3"
    },
    "gpuClass": "standard",
    "accelerator": "GPU"
  },
  "cells": [
    {
      "cell_type": "markdown",
      "metadata": {
        "tags": [
          "pdf-title"
        ],
        "id": "WzMsQL-VaLgz"
      },
      "source": [
        "# **HW2**\n"
      ]
    },
    {
      "cell_type": "markdown",
      "metadata": {
        "id": "cHAFIK0Cn3Q2"
      },
      "source": [
        "## **Handwritten Digits Dataset (scikit-learn)**\n",
        "*   1797 instances\n",
        "*   64 numerical features (intensity of 8x8 pixels)\n",
        "*   10 classes (digits from 0 to 9)\n",
        "\n",
        "![alt text](https://drive.google.com/uc?id=1JFgt0u6aIW8noh2saWgRTf9YtUTUTfbV)"
      ]
    },
    {
      "cell_type": "markdown",
      "source": [
        "1. Import scikit-learn libraries"
      ],
      "metadata": {
        "id": "7RzuhzXKZ-Yh"
      }
    },
    {
      "cell_type": "code",
      "source": [
        "import sklearn"
      ],
      "metadata": {
        "id": "cYtUKidJlTRZ"
      },
      "execution_count": 33,
      "outputs": []
    },
    {
      "cell_type": "markdown",
      "source": [
        "2. Load handwritten digits dataset (using load_digits()) and divide it into training (80%) and test (20%) datasets "
      ],
      "metadata": {
        "id": "XZ76oxzYaCuY"
      }
    },
    {
      "cell_type": "code",
      "source": [
        "from sklearn.datasets import load_digits\n",
        "digits = load_digits()\n",
        "digits.data.shape"
      ],
      "metadata": {
        "colab": {
          "base_uri": "https://localhost:8080/"
        },
        "id": "4ghzw_K3ldlU",
        "outputId": "d8ba8363-abd8-49b7-a070-7974f514a566"
      },
      "execution_count": 34,
      "outputs": [
        {
          "output_type": "execute_result",
          "data": {
            "text/plain": [
              "(1797, 64)"
            ]
          },
          "metadata": {},
          "execution_count": 34
        }
      ]
    },
    {
      "cell_type": "code",
      "source": [
        "from sklearn.model_selection import train_test_split\n",
        "X_train, X_test, y_train, y_test = train_test_split(digits.data, digits.target, test_size = 0.2)"
      ],
      "metadata": {
        "id": "H6C7GLdGmafF"
      },
      "execution_count": 35,
      "outputs": []
    },
    {
      "cell_type": "code",
      "source": [
        "X_train.shape"
      ],
      "metadata": {
        "colab": {
          "base_uri": "https://localhost:8080/"
        },
        "id": "NQivEmGoomlO",
        "outputId": "a5f71e0a-31e3-49a3-db36-1cf3599c636f"
      },
      "execution_count": 36,
      "outputs": [
        {
          "output_type": "execute_result",
          "data": {
            "text/plain": [
              "(1437, 64)"
            ]
          },
          "metadata": {},
          "execution_count": 36
        }
      ]
    },
    {
      "cell_type": "markdown",
      "source": [
        "3. Import torch libraries"
      ],
      "metadata": {
        "id": "MkugUAzWKXtj"
      }
    },
    {
      "cell_type": "code",
      "source": [
        "import torch\n",
        "import torch.nn as nn\n",
        "import torch.optim as optim\n",
        "import torch.nn.functional as F\n",
        "from torch.utils.data import TensorDataset, DataLoader"
      ],
      "metadata": {
        "id": "dcKafY3qox9p"
      },
      "execution_count": 37,
      "outputs": []
    },
    {
      "cell_type": "markdown",
      "source": [
        "4. Prepare PyTorch Dataset and DataLoader for digits dataset"
      ],
      "metadata": {
        "id": "yQWX-fgN0omD"
      }
    },
    {
      "cell_type": "code",
      "source": [
        "tr_dataset = TensorDataset(torch.from_numpy(X_train).float(), torch.from_numpy(y_train))\n",
        "ts_dataset = TensorDataset(torch.from_numpy(X_test).float(), torch.from_numpy(y_test))"
      ],
      "metadata": {
        "id": "8Qsvf508pxl6"
      },
      "execution_count": 38,
      "outputs": []
    },
    {
      "cell_type": "code",
      "source": [
        "train_loader = DataLoader(dataset=tr_dataset, batch_size=16)\n",
        "test_loader = DataLoader(dataset=ts_dataset, batch_size=16)"
      ],
      "metadata": {
        "id": "tVWlo66WqO0P"
      },
      "execution_count": 39,
      "outputs": []
    },
    {
      "cell_type": "code",
      "source": [
        "X, y = next(iter(train_loader))"
      ],
      "metadata": {
        "id": "IdV0Z4PQqU6Y"
      },
      "execution_count": 40,
      "outputs": []
    },
    {
      "cell_type": "markdown",
      "source": [
        "5. Define a simple network with one input layer, two hidden layers (HL1, HL2), and one output layer (OL)\n",
        "\n",
        "*   H1: 32 neurons with ReLU activation\n",
        "*   H2: 64 neurons with ReLU activation\n",
        "*   OL: 10 neurons with Softmax activation\n"
      ],
      "metadata": {
        "id": "UHO1tGynKZ_z"
      }
    },
    {
      "cell_type": "code",
      "source": [
        "class SimpleNetwork2(nn.Module):\n",
        "  def __init__(self, input_dim, hidden1_dim, hidden2_dim, output_dim):\n",
        "    super(SimpleNetwork2, self).__init__()\n",
        "    self.layers = nn.Sequential(\n",
        "        nn.Linear(input_dim, hidden1_dim),\n",
        "        nn.ReLU(),\n",
        "        nn.Linear(hidden1_dim, hidden2_dim),\n",
        "        nn.ReLU(),\n",
        "        nn.Linear(hidden2_dim, output_dim),\n",
        "        nn.Softmax(dim=1),\n",
        "    )\n",
        "\n",
        "  def forward(self, x):\n",
        "    x = self.layers(x)\n",
        "    return x"
      ],
      "metadata": {
        "id": "21rNH-xkqJT6"
      },
      "execution_count": 41,
      "outputs": []
    },
    {
      "cell_type": "code",
      "source": [
        "my_model = SimpleNetwork2(64, 32, 64, 10)\n",
        "print(my_model)"
      ],
      "metadata": {
        "colab": {
          "base_uri": "https://localhost:8080/"
        },
        "id": "6iwI2OassO-a",
        "outputId": "de6f0538-10e5-436f-cd03-b99f8206621f"
      },
      "execution_count": 42,
      "outputs": [
        {
          "output_type": "stream",
          "name": "stdout",
          "text": [
            "SimpleNetwork2(\n",
            "  (layers): Sequential(\n",
            "    (0): Linear(in_features=64, out_features=32, bias=True)\n",
            "    (1): ReLU()\n",
            "    (2): Linear(in_features=32, out_features=64, bias=True)\n",
            "    (3): ReLU()\n",
            "    (4): Linear(in_features=64, out_features=10, bias=True)\n",
            "    (5): Softmax(dim=1)\n",
            "  )\n",
            ")\n"
          ]
        }
      ]
    },
    {
      "cell_type": "markdown",
      "source": [
        "6. Train the simple network with the following hyperparameters and settings:\n",
        "\n",
        "*   Number of Epochs: 50\n",
        "*   Learning rate: 0.01\n",
        "*   Loss function: Cross Entropy\n",
        "*   Optimization: Stochastic Gradient Descent\n",
        "\n"
      ],
      "metadata": {
        "id": "4HodYZM-raRB"
      }
    },
    {
      "cell_type": "code",
      "source": [
        "learning_rate = 0.01\n",
        "loss_fn = nn.CrossEntropyLoss()\n",
        "optimizer = optim.SGD(my_model.parameters(), lr=learning_rate, momentum=0.9)"
      ],
      "metadata": {
        "id": "QHaE5Ey6uVSB"
      },
      "execution_count": 43,
      "outputs": []
    },
    {
      "cell_type": "code",
      "source": [
        "device = torch.device(\"cuda\" if torch.cuda.is_available() else \"cpu\")\n",
        "print(device)"
      ],
      "metadata": {
        "colab": {
          "base_uri": "https://localhost:8080/"
        },
        "id": "6JmSOA2lupUD",
        "outputId": "3b6f45fc-91d2-42d4-d474-e58f79d6d223"
      },
      "execution_count": 44,
      "outputs": [
        {
          "output_type": "stream",
          "name": "stdout",
          "text": [
            "cuda\n"
          ]
        }
      ]
    },
    {
      "cell_type": "code",
      "source": [
        "num_epochs = 50\n",
        "\n",
        "my_model.to(device)\n",
        "my_model.train()\n",
        "\n",
        "errors = []\n",
        "for epoch in range(num_epochs):\n",
        " \n",
        "  for X, y in train_loader:\n",
        "\n",
        "    X = X.to(device)\n",
        "    y = y.to(device)\n",
        "\n",
        "    optimizer.zero_grad()     # zero the gradients (by default it adds up)\n",
        "\n",
        "    output = my_model(X)\n",
        "    loss = loss_fn(output, y)\n",
        "\n",
        "    loss.backward()           # backpropgate the loss\n",
        "    optimizer.step()          # update parameters\n",
        "    errors.append(loss.item())"
      ],
      "metadata": {
        "id": "QHAoedotukaP"
      },
      "execution_count": 45,
      "outputs": []
    },
    {
      "cell_type": "markdown",
      "source": [
        "7. Evaluate the model performance on the test dataset using accuracy"
      ],
      "metadata": {
        "id": "wNcEraAXKBFq"
      }
    },
    {
      "cell_type": "code",
      "source": [
        "import matplotlib.pyplot as plt"
      ],
      "metadata": {
        "id": "jIdOOkuivAT4"
      },
      "execution_count": 46,
      "outputs": []
    },
    {
      "cell_type": "code",
      "source": [
        "plt.figure(figsize=(10,5))\n",
        "plt.title('Training Loss')\n",
        "plt.plot(errors)\n",
        "plt.show()"
      ],
      "metadata": {
        "colab": {
          "base_uri": "https://localhost:8080/",
          "height": 468
        },
        "id": "3Zsd3zR1vCoG",
        "outputId": "fb85e491-78a8-4c96-cfbe-bd9457b5e052"
      },
      "execution_count": 47,
      "outputs": [
        {
          "output_type": "display_data",
          "data": {
            "text/plain": [
              "<Figure size 1000x500 with 1 Axes>"
            ],
            "image/png": "[encoded data removed]"
          },
          "metadata": {}
        }
      ]
    },
    {
      "cell_type": "code",
      "source": [
        "def test_model(model, data_loader):\n",
        "  model.eval()         # Set the model to evaluation mode\n",
        "\n",
        "  correct = 0\n",
        "  n = 0\n",
        "  with torch.no_grad():   # disable gradient calculation, reduce memory usage \n",
        "    for x, y in data_loader:\n",
        "\n",
        "      x = x.to(device)\n",
        "      y = y.to(device)\n",
        "\n",
        "      # zero the gradients\n",
        "      optimizer.zero_grad()\n",
        "\n",
        "      output = model(x)\n",
        "      _, pred = torch.max(output, 1)\n",
        "\n",
        "      correct += torch.sum(pred == y).item()\n",
        "      n += y.size(0)\n",
        "\n",
        "  acc = correct / n\n",
        "\n",
        "  return acc"
      ],
      "metadata": {
        "id": "8Q7EYcJRvZFl"
      },
      "execution_count": 48,
      "outputs": []
    },
    {
      "cell_type": "code",
      "source": [
        "acc_tr = test_model(my_model, train_loader)\n",
        "acc_ts = test_model(my_model, test_loader)\n",
        "\n",
        "print(\"Training Accuracy =\", acc_tr)\n",
        "print(\"Test Accuracy =\", acc_ts)"
      ],
      "metadata": {
        "colab": {
          "base_uri": "https://localhost:8080/"
        },
        "id": "VwkItaSuvaZu",
        "outputId": "dc065f59-0cd9-4a23-a316-e1f888f30640"
      },
      "execution_count": 49,
      "outputs": [
        {
          "output_type": "stream",
          "name": "stdout",
          "text": [
            "Training Accuracy = 0.894919972164231\n",
            "Test Accuracy = 0.8805555555555555\n"
          ]
        }
      ]
    },
    {
      "cell_type": "markdown",
      "source": [
        "8. Train the simple network with the following hyperparameters and settings:\n",
        "\n",
        "*   Number of Epochs: 50\n",
        "*   Learning rate: 0.001\n",
        "*   Loss function: Cross Entropy\n",
        "*   Optimization: Adaptive Moment Estimation (Adam)"
      ],
      "metadata": {
        "id": "xaozLqapbhno"
      }
    },
    {
      "cell_type": "code",
      "source": [
        "learning_rate = 0.001\n",
        "loss_fn = nn.CrossEntropyLoss()\n",
        "optimizer = optim.Adam(my_model.parameters(), lr=learning_rate)"
      ],
      "metadata": {
        "id": "cOvbKc2nvfzA"
      },
      "execution_count": 50,
      "outputs": []
    },
    {
      "cell_type": "code",
      "source": [
        "num_epochs = 50\n",
        "\n",
        "my_model.to(device)\n",
        "my_model.train()\n",
        "\n",
        "errors = []\n",
        "for epoch in range(num_epochs):\n",
        " \n",
        "  for X, y in train_loader:\n",
        "\n",
        "    X = X.to(device)\n",
        "    y = y.to(device)\n",
        "\n",
        "    optimizer.zero_grad()     # zero the gradients (by default it adds up)\n",
        "\n",
        "    output = my_model(X)\n",
        "    loss = loss_fn(output, y)\n",
        "\n",
        "    loss.backward()           # backpropgate the loss\n",
        "    optimizer.step()          # update parameters\n",
        "    errors.append(loss.item())"
      ],
      "metadata": {
        "id": "1wRWnvb5vn1H"
      },
      "execution_count": 51,
      "outputs": []
    },
    {
      "cell_type": "code",
      "source": [
        "acc_tr = test_model(my_model, train_loader)\n",
        "acc_ts = test_model(my_model, test_loader)\n",
        "\n",
        "print(\"Training Accuracy =\", acc_tr)\n",
        "print(\"Test Accuracy =\", acc_ts)"
      ],
      "metadata": {
        "colab": {
          "base_uri": "https://localhost:8080/"
        },
        "id": "Ji8fnSZ_v7mM",
        "outputId": "11d85837-e4f2-43f6-df4b-96e1e3db7a41"
      },
      "execution_count": 52,
      "outputs": [
        {
          "output_type": "stream",
          "name": "stdout",
          "text": [
            "Training Accuracy = 0.9958246346555324\n",
            "Test Accuracy = 0.9833333333333333\n"
          ]
        }
      ]
    },
    {
      "cell_type": "code",
      "source": [],
      "metadata": {
        "id": "sXwshhw-v_yf"
      },
      "execution_count": 52,
      "outputs": []
    }
  ]
}