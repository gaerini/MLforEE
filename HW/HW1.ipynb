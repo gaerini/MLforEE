{
  "nbformat": 4,
  "nbformat_minor": 0,
  "metadata": {
    "colab": {
      "provenance": []
    },
    "kernelspec": {
      "name": "python3",
      "display_name": "Python 3"
    },
    "language_info": {
      "name": "python"
    }
  },
  "cells": [
    {
      "cell_type": "code",
      "execution_count": 115,
      "metadata": {
        "id": "rikQGUzivylb"
      },
      "outputs": [],
      "source": [
        "import numpy as np\n",
        "import math"
      ]
    },
    {
      "cell_type": "code",
      "source": [
        "w1 = np.array([[0.3, 0.3, -0.4, 1.2],\n",
        "               [-0.1, -3.1, 1.4, -2.3],\n",
        "               [1.1, 0.9, 1.3, 0.8]])\n",
        "\n",
        "w2 = np.array([[0.8, 0.7, 0.3],\n",
        "              [0.5, 0.1, -0.6],\n",
        "              [-0.4, 0.9, 0.7]])\n",
        "\n",
        "wo = np.array([-0.4, 0.8, 1.2])\n"
      ],
      "metadata": {
        "id": "40_f18jCv_zt"
      },
      "execution_count": 116,
      "outputs": []
    },
    {
      "cell_type": "code",
      "source": [
        "w1"
      ],
      "metadata": {
        "colab": {
          "base_uri": "https://localhost:8080/"
        },
        "id": "lVzCeovlwi4M",
        "outputId": "f73acf99-1a00-4d00-84f5-8f15bb286033"
      },
      "execution_count": 117,
      "outputs": [
        {
          "output_type": "execute_result",
          "data": {
            "text/plain": [
              "array([[ 0.3,  0.3, -0.4,  1.2],\n",
              "       [-0.1, -3.1,  1.4, -2.3],\n",
              "       [ 1.1,  0.9,  1.3,  0.8]])"
            ]
          },
          "metadata": {},
          "execution_count": 117
        }
      ]
    },
    {
      "cell_type": "code",
      "source": [
        "w2"
      ],
      "metadata": {
        "colab": {
          "base_uri": "https://localhost:8080/"
        },
        "id": "uUeAcqOvwog1",
        "outputId": "72cf1268-9168-40ef-e26e-f5df90a0f0c3"
      },
      "execution_count": 118,
      "outputs": [
        {
          "output_type": "execute_result",
          "data": {
            "text/plain": [
              "array([[ 0.8,  0.7,  0.3],\n",
              "       [ 0.5,  0.1, -0.6],\n",
              "       [-0.4,  0.9,  0.7]])"
            ]
          },
          "metadata": {},
          "execution_count": 118
        }
      ]
    },
    {
      "cell_type": "code",
      "source": [
        "wo"
      ],
      "metadata": {
        "colab": {
          "base_uri": "https://localhost:8080/"
        },
        "id": "WoGg3PomwpR5",
        "outputId": "bc314859-ec1b-4cdb-cedf-66c537dd0ffb"
      },
      "execution_count": 119,
      "outputs": [
        {
          "output_type": "execute_result",
          "data": {
            "text/plain": [
              "array([-0.4,  0.8,  1.2])"
            ]
          },
          "metadata": {},
          "execution_count": 119
        }
      ]
    },
    {
      "cell_type": "code",
      "source": [
        "x = np.array([[1.2, 0.3, 0.9],\n",
        "              [0.7, 0.1, 0.2],\n",
        "              [1.5, 2.9, 1.4],\n",
        "              [2.3, 1.4, 0.9]])"
      ],
      "metadata": {
        "id": "Cjbck0pHzYHL"
      },
      "execution_count": 120,
      "outputs": []
    },
    {
      "cell_type": "code",
      "source": [
        "def RELU(array):\n",
        "  row = array.shape[0]\n",
        "  try:\n",
        "    col = array.shape[1]\n",
        "  except:\n",
        "    col = 0\n",
        "\n",
        "  for i in range(row):\n",
        "    for j in range(col):\n",
        "      if array[i, j] <= 0:\n",
        "        array[i, j] = 0\n",
        "  return array"
      ],
      "metadata": {
        "id": "CFv7TnzowqGv"
      },
      "execution_count": 121,
      "outputs": []
    },
    {
      "cell_type": "markdown",
      "source": [
        "<h2>problem1-2</h2>\n"
      ],
      "metadata": {
        "id": "ADJgyf1Gyucx"
      }
    },
    {
      "cell_type": "code",
      "source": [
        "O = np.tanh(np.matmul(wo, RELU(np.matmul(w2, RELU(np.matmul(w1, x))))))"
      ],
      "metadata": {
        "id": "ZYaFhNIYyslP"
      },
      "execution_count": 122,
      "outputs": []
    },
    {
      "cell_type": "code",
      "source": [
        "print(O)"
      ],
      "metadata": {
        "colab": {
          "base_uri": "https://localhost:8080/"
        },
        "id": "EhiY6ljYzqBd",
        "outputId": "98d9def2-cf23-4e3e-dfe2-f0e054f54b8e"
      },
      "execution_count": 123,
      "outputs": [
        {
          "output_type": "stream",
          "name": "stdout",
          "text": [
            "[0.96022594 0.99880529 0.96340055]\n"
          ]
        }
      ]
    },
    {
      "cell_type": "markdown",
      "source": [
        "<h2>Problem1-3</h2>"
      ],
      "metadata": {
        "id": "1TIHJh_S12wm"
      }
    },
    {
      "cell_type": "code",
      "source": [
        "def ELU(array):\n",
        "  row = array.shape[0]\n",
        "  try:\n",
        "    col = array.shape[1]\n",
        "  except:\n",
        "    col = 0\n",
        "\n",
        "  for i in range(row):\n",
        "    for j in range(col):\n",
        "      z = array[i][j]\n",
        "      if z < 0:\n",
        "        array[i, j] = math.exp(z) - 1\n",
        "  return array"
      ],
      "metadata": {
        "id": "72dV9gty01o-"
      },
      "execution_count": 124,
      "outputs": []
    },
    {
      "cell_type": "code",
      "source": [
        "O = np.tanh(np.matmul(wo, RELU(np.matmul(w2, ELU(np.matmul(w1, x))))))"
      ],
      "metadata": {
        "id": "srQSOuqd1hrA"
      },
      "execution_count": 125,
      "outputs": []
    },
    {
      "cell_type": "code",
      "source": [
        "print(O)"
      ],
      "metadata": {
        "colab": {
          "base_uri": "https://localhost:8080/"
        },
        "id": "PGl9TxLG2WZ3",
        "outputId": "293eabbd-c9c1-44ed-ee22-92f999551c98"
      },
      "execution_count": 126,
      "outputs": [
        {
          "output_type": "stream",
          "name": "stdout",
          "text": [
            "[0.81846028 0.99880529 0.91271419]\n"
          ]
        }
      ]
    }
  ]
}