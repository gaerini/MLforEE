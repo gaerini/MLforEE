{
  "nbformat": 4,
  "nbformat_minor": 0,
  "metadata": {
    "colab": {
      "provenance": []
    },
    "kernelspec": {
      "name": "python3",
      "display_name": "Python 3"
    }
  },
  "cells": [
    {
      "cell_type": "markdown",
      "source": [
        "# **Scikin-learn (Sklearn)**\n",
        "\n",
        "*   A library for machine learning in Python\n",
        "*   Contain several classification, regression, clustering algorithms\n",
        "*   Designed to work with other Python libraries such as NumPy, MatPlotlib, and SciPy\n",
        "*   Provide several popular (toy) datasets \n"
      ],
      "metadata": {
        "id": "KGZzeWjYZc6g"
      }
    },
    {
      "cell_type": "markdown",
      "metadata": {
        "id": "eGpryrbRhgwq"
      },
      "source": [
        "Import Libraries"
      ]
    },
    {
      "cell_type": "code",
      "metadata": {
        "id": "Xr3IVnjogzra"
      },
      "source": [
        "import numpy as np\n",
        "from sklearn import datasets"
      ],
      "execution_count": null,
      "outputs": []
    },
    {
      "cell_type": "markdown",
      "source": [
        "## **Breast Cancer Wisconsin (Diagnostic) Dataset**\n",
        "*   569 instances (212 Malignant, 357 Benign)\n",
        "*   30 numerical features (computed from a digitized image of a breast mass)\n",
        "*   2 classes (Malignant, Benign)"
      ],
      "metadata": {
        "id": "TonY7UBks9vb"
      }
    },
    {
      "cell_type": "markdown",
      "metadata": {
        "id": "1Wtrsl8CIFxd"
      },
      "source": [
        "Load Data"
      ]
    },
    {
      "cell_type": "code",
      "metadata": {
        "id": "aL9lpauO_N6J"
      },
      "source": [
        "wisconsin = datasets.load_breast_cancer()"
      ],
      "execution_count": null,
      "outputs": []
    },
    {
      "cell_type": "markdown",
      "source": [
        "Investigate Data"
      ],
      "metadata": {
        "id": "DD08nMtcvjXD"
      }
    },
    {
      "cell_type": "code",
      "source": [
        "print(wisconsin.keys())"
      ],
      "metadata": {
        "id": "oWnvnDQ_uAhJ"
      },
      "execution_count": null,
      "outputs": []
    },
    {
      "cell_type": "code",
      "source": [
        "print(wisconsin.data.shape)\n",
        "print(wisconsin.data[0:3,:])"
      ],
      "metadata": {
        "id": "X16LAPe0uEG5"
      },
      "execution_count": null,
      "outputs": []
    },
    {
      "cell_type": "code",
      "source": [
        "print(wisconsin.feature_names)"
      ],
      "metadata": {
        "id": "kwspzPaHxONb"
      },
      "execution_count": null,
      "outputs": []
    },
    {
      "cell_type": "code",
      "source": [
        "print(wisconsin.target_names)\n",
        "print(wisconsin.target[0:30])"
      ],
      "metadata": {
        "id": "HgKGmXwAPqUl"
      },
      "execution_count": null,
      "outputs": []
    },
    {
      "cell_type": "markdown",
      "metadata": {
        "id": "G08IsYF2IPf4"
      },
      "source": [
        "Split Dataset"
      ]
    },
    {
      "cell_type": "code",
      "metadata": {
        "id": "OOBo1TcVIGdR"
      },
      "source": [
        "from sklearn.model_selection import train_test_split\n",
        "\n",
        "TrainData, TestData, TrainLabel, TestLabel = train_test_split(wisconsin.data, wisconsin.target, test_size=0.3, random_state=1)"
      ],
      "execution_count": null,
      "outputs": []
    },
    {
      "cell_type": "code",
      "source": [
        "print('Train Data: ', TrainData.shape)\n",
        "print('Test Data: ', TestData.shape)"
      ],
      "metadata": {
        "id": "QZr-r0VZWyyn"
      },
      "execution_count": null,
      "outputs": []
    },
    {
      "cell_type": "markdown",
      "source": [
        "Check features values between 2 classes"
      ],
      "metadata": {
        "id": "FDApAogzRht1"
      }
    },
    {
      "cell_type": "code",
      "source": [
        "avg_feat = np.mean(TrainData, axis=0)\n",
        "avg_feat_mg = np.mean(TrainData[TrainLabel==0,:], axis=0)\n",
        "avg_feat_bn = np.mean(TrainData[TrainLabel==1,:], axis=0)\n",
        "print('Avg. Features =', avg_feat)\n",
        "print('\\nMalignant: Avg. Features =', avg_feat_mg)\n",
        "print('\\nBenign: Avg. Features =', avg_feat_bn)"
      ],
      "metadata": {
        "id": "CGbH4fg5Peio"
      },
      "execution_count": null,
      "outputs": []
    },
    {
      "cell_type": "markdown",
      "source": [
        "Visaulize features"
      ],
      "metadata": {
        "id": "j9yJRlRcRbrl"
      }
    },
    {
      "cell_type": "code",
      "source": [
        "import matplotlib.pyplot as plt"
      ],
      "metadata": {
        "id": "kBa-niclXOaD"
      },
      "execution_count": null,
      "outputs": []
    },
    {
      "cell_type": "code",
      "source": [
        "plt.figure(figsize=(15,5))\n",
        "plt.plot(np.arange(0,30), avg_feat, 'bo-',\n",
        "         np.arange(0,30), avg_feat_mg, 'r*:',\n",
        "         np.arange(0,30), avg_feat_bn, 'gd-.')\n",
        "plt.title('Avg. Features')\n",
        "plt.ylabel('Price')\n",
        "plt.xlabel('Year')\n",
        "plt.legend(['All', 'Malignant', 'Benign'])\n",
        "#plt.ylim([0, 0.5])\n",
        "plt.show()"
      ],
      "metadata": {
        "id": "05eAt-H8Ovvh"
      },
      "execution_count": null,
      "outputs": []
    },
    {
      "cell_type": "markdown",
      "source": [
        "Normalize data"
      ],
      "metadata": {
        "id": "xZl6M_FERrOt"
      }
    },
    {
      "cell_type": "code",
      "source": [
        "TrainData_min = TrainData.min(axis=0)\n",
        "TrainData_max = TrainData.max(axis=0)\n",
        "\n",
        "TrainData = (TrainData - TrainData_min) / (TrainData_max - TrainData_min)\n",
        "TestData = (TestData - TrainData_min) / (TrainData_max - TrainData_min)"
      ],
      "metadata": {
        "id": "UqoVJmUzRZu0"
      },
      "execution_count": null,
      "outputs": []
    },
    {
      "cell_type": "markdown",
      "source": [
        "Visualize features again"
      ],
      "metadata": {
        "id": "imMutvztSKNd"
      }
    },
    {
      "cell_type": "code",
      "source": [
        "avg_feat = np.mean(TrainData, axis=0)\n",
        "avg_feat_mg = np.mean(TrainData[TrainLabel==0,:], axis=0)\n",
        "avg_feat_bn = np.mean(TrainData[TrainLabel==1,:], axis=0)\n",
        "\n",
        "plt.figure(figsize=(15,5))\n",
        "plt.plot(np.arange(0,30), avg_feat, 'bo-',\n",
        "         np.arange(0,30), avg_feat_mg, 'r*:',\n",
        "         np.arange(0,30), avg_feat_bn, 'gd-.')\n",
        "plt.title('Avg. Features')\n",
        "plt.ylabel('Price')\n",
        "plt.xlabel('Year')\n",
        "plt.legend(['All', 'Malignant', 'Benign'])\n",
        "plt.show()"
      ],
      "metadata": {
        "id": "WhLpvGbMSCY5"
      },
      "execution_count": null,
      "outputs": []
    },
    {
      "cell_type": "markdown",
      "metadata": {
        "id": "NI_ELpxcJ4jY"
      },
      "source": [
        "Let's make random guesses 🙃"
      ]
    },
    {
      "cell_type": "code",
      "metadata": {
        "id": "WukEk1j_J6yb"
      },
      "source": [
        "np.random.seed(3)\n",
        "Weights_trial1 = 1.9 * np.random.randn(30) + 0.3  # Randomly set the weights\n",
        "\n",
        "res_tr1 = np.matmul(TrainData, Weights_trial1)     # Make prediction"
      ],
      "execution_count": null,
      "outputs": []
    },
    {
      "cell_type": "code",
      "source": [
        "np.random.seed(1)\n",
        "Weights_trial2 = 2.5 * np.random.randn(30) + 0.3   # Randomly set the weights\n",
        "\n",
        "res_tr2 = np.matmul(TrainData, Weights_trial2)     # Make prediction"
      ],
      "metadata": {
        "id": "JIshOFyr0SyJ"
      },
      "execution_count": null,
      "outputs": []
    },
    {
      "cell_type": "code",
      "source": [
        "np.random.seed(7)\n",
        "Weights_trial3 = 1.8 * np.random.randn(30) + 0.3  # Randomly set the weights\n",
        "\n",
        "res_tr3 = np.matmul(TrainData, Weights_trial3)     # Make prediction"
      ],
      "metadata": {
        "id": "25XxyoOgXHm5"
      },
      "execution_count": null,
      "outputs": []
    },
    {
      "cell_type": "markdown",
      "source": [
        "Prediction on training data"
      ],
      "metadata": {
        "id": "HLmOlcwlaFge"
      }
    },
    {
      "cell_type": "code",
      "source": [
        "pred_tr1 = res_tr1 > 0\n",
        "pred_tr2 = res_tr2 > 0\n",
        "pred_tr3 = res_tr3 > 0\n",
        "\n",
        "acc_tr1 = np.sum(pred_tr1 == TrainLabel) / len(pred_tr1)\n",
        "acc_tr2 = np.sum(pred_tr2 == TrainLabel) / len(pred_tr2)\n",
        "acc_tr3 = np.sum(pred_tr3 == TrainLabel) / len(pred_tr3)\n",
        "\n",
        "print(\"<Training Accuracy>\")\n",
        "print(\"Trial 1 = \", acc_tr1 * 100)\n",
        "print(\"Trial 2 = \", acc_tr2 * 100)\n",
        "print(\"Trial 3 = \", acc_tr3 * 100)"
      ],
      "metadata": {
        "id": "WLnolLJ-zM72"
      },
      "execution_count": null,
      "outputs": []
    },
    {
      "cell_type": "markdown",
      "source": [
        "Prediction on test data"
      ],
      "metadata": {
        "id": "o8-N1vOeaJ19"
      }
    },
    {
      "cell_type": "code",
      "source": [
        "res_ts = np.matmul(TestData, Weights_trial2)     # Make prediction\n",
        "pred_ts = res_ts > 0\n",
        "\n",
        "acc_ts = np.sum(pred_ts == TestLabel) / len(pred_ts)\n",
        "print(\"Test Accuracy = \", acc_ts * 100)"
      ],
      "metadata": {
        "id": "p3bmGHxfZCA5"
      },
      "execution_count": null,
      "outputs": []
    },
    {
      "cell_type": "markdown",
      "source": [
        "### Use sklearn metrics to measure performance"
      ],
      "metadata": {
        "id": "3KQcp4EAaOgp"
      }
    },
    {
      "cell_type": "code",
      "source": [
        "from sklearn import metrics"
      ],
      "metadata": {
        "id": "TFanzioyb6UB"
      },
      "execution_count": null,
      "outputs": []
    },
    {
      "cell_type": "code",
      "source": [
        "acc_tr = metrics.accuracy_score(TrainLabel, pred_tr2)\n",
        "prec_tr = metrics.precision_score(TrainLabel, pred_tr2)\n",
        "rec_tr = metrics.recall_score(TrainLabel, pred_tr2)\n",
        "f1_tr = metrics.f1_score(TrainLabel, pred_tr2)\n",
        "\n",
        "print(\"<Training>\")\n",
        "print(\"Accuracy = \", acc_tr*100, \"Precision = \", prec_tr, \"Recall = \", rec_tr, \"F1-score = \", f1_tr)"
      ],
      "metadata": {
        "id": "uikqbS0dwfNE"
      },
      "execution_count": null,
      "outputs": []
    },
    {
      "cell_type": "code",
      "source": [
        "acc_ts = metrics.accuracy_score(TestLabel, pred_ts)\n",
        "prec_ts = metrics.precision_score(TestLabel, pred_ts)\n",
        "rec_ts = metrics.recall_score(TestLabel, pred_ts)\n",
        "f1_ts = metrics.f1_score(TestLabel, pred_ts)\n",
        "\n",
        "print(\"<Test>\")\n",
        "print(\"Accuracy = \", acc_ts*100, \"Precision = \", prec_ts, \"Recall = \", rec_ts, \"F1-score = \", f1_ts)"
      ],
      "metadata": {
        "id": "iaDelPgcZrCJ"
      },
      "execution_count": null,
      "outputs": []
    },
    {
      "cell_type": "markdown",
      "source": [
        "Confusion matrix"
      ],
      "metadata": {
        "id": "4sX1YaSbbWXG"
      }
    },
    {
      "cell_type": "code",
      "source": [
        "tr_cmat = metrics.confusion_matrix(TrainLabel, pred_tr2)\n",
        "ts_cmat = metrics.confusion_matrix(TestLabel, pred_ts)\n",
        "\n",
        "print(\"<Confusion Matrix: Training>\")\n",
        "print(tr_cmat)\n",
        "\n",
        "print(\"\\n<Confusion Matrix: Test>\")\n",
        "print(ts_cmat)"
      ],
      "metadata": {
        "id": "d3oUZC9oY9jJ"
      },
      "execution_count": null,
      "outputs": []
    },
    {
      "cell_type": "markdown",
      "source": [
        "ROC curve & AUC"
      ],
      "metadata": {
        "id": "2Fi_R-AobceN"
      }
    },
    {
      "cell_type": "code",
      "source": [
        "tr_fpr, tr_tpr, tr_th = metrics.roc_curve(TrainLabel, res_tr2, pos_label=1)\n",
        "ts_fpr, ts_tpr, ts_th = metrics.roc_curve(TestLabel, res_ts, pos_label=1)"
      ],
      "metadata": {
        "id": "FpWwwzp1Z9u_"
      },
      "execution_count": null,
      "outputs": []
    },
    {
      "cell_type": "code",
      "source": [
        "import matplotlib.pyplot as plt\n",
        "\n",
        "plt.plot(tr_fpr, tr_tpr, color='b', label='Train')\n",
        "plt.plot(ts_fpr, ts_tpr, color='r', label='Test')\n",
        "plt.xlim([0.0, 1.0])\n",
        "plt.ylim([0.0, 1.0])\n",
        "plt.legend(loc='best')\n",
        "plt.show()"
      ],
      "metadata": {
        "id": "0L0iEjcfbnYz"
      },
      "execution_count": null,
      "outputs": []
    },
    {
      "cell_type": "code",
      "source": [
        "tr_auc = metrics.roc_auc_score(TrainLabel, res_tr2)\n",
        "print('Training AUC : ', tr_auc)\n",
        "\n",
        "ts_auc = metrics.roc_auc_score(TestLabel, res_ts)\n",
        "print('Test AUC : ', ts_auc)"
      ],
      "metadata": {
        "id": "aDJZTbBocFdO"
      },
      "execution_count": null,
      "outputs": []
    },
    {
      "cell_type": "markdown",
      "source": [
        "## **Diabetes Dataset**\n",
        "*   442 diabetes patients\n",
        "*   10 numerical features (age, sex, body mass index, avg. blood pressure, ...)\n",
        "*   Disease progression one year after baseline "
      ],
      "metadata": {
        "id": "bTRs-gMcbjva"
      }
    },
    {
      "cell_type": "code",
      "source": [
        "import numpy as np\n",
        "from sklearn import datasets"
      ],
      "metadata": {
        "id": "BbrCWTPabvud"
      },
      "execution_count": null,
      "outputs": []
    },
    {
      "cell_type": "markdown",
      "metadata": {
        "id": "PUB2S3tnbdJh"
      },
      "source": [
        "Load Data"
      ]
    },
    {
      "cell_type": "code",
      "metadata": {
        "id": "t-gO--NybdJm"
      },
      "source": [
        "diabetes = datasets.load_diabetes()"
      ],
      "execution_count": null,
      "outputs": []
    },
    {
      "cell_type": "markdown",
      "source": [
        "Investigate Data"
      ],
      "metadata": {
        "id": "tgOcHUqnbdJm"
      }
    },
    {
      "cell_type": "code",
      "source": [
        "print(diabetes.keys())"
      ],
      "metadata": {
        "id": "vyKOe46FbdJn"
      },
      "execution_count": null,
      "outputs": []
    },
    {
      "cell_type": "code",
      "source": [
        "print(diabetes.data.shape)\n",
        "print(diabetes.data[0:3,:])"
      ],
      "metadata": {
        "id": "0evYjsVEbdJn"
      },
      "execution_count": null,
      "outputs": []
    },
    {
      "cell_type": "code",
      "source": [
        "print(diabetes.feature_names)"
      ],
      "metadata": {
        "id": "YgXYoXVHbdJn"
      },
      "execution_count": null,
      "outputs": []
    },
    {
      "cell_type": "code",
      "source": [
        "print(diabetes.target.shape)\n",
        "print(diabetes.target[0:30])"
      ],
      "metadata": {
        "id": "lbM_9vEIbdJn"
      },
      "execution_count": null,
      "outputs": []
    },
    {
      "cell_type": "code",
      "source": [
        "Data_min = diabetes.data.min(axis=0)\n",
        "Data_max = diabetes.data.max(axis=0)\n",
        "\n",
        "diabetes_data = (diabetes.data - Data_min) / (Data_max - Data_min)"
      ],
      "metadata": {
        "id": "UjGr6yxkVUX2"
      },
      "execution_count": null,
      "outputs": []
    },
    {
      "cell_type": "markdown",
      "metadata": {
        "id": "l1Tu5tyncZ2Z"
      },
      "source": [
        "Let's make random guesses 🙃"
      ]
    },
    {
      "cell_type": "code",
      "metadata": {
        "id": "2jrdH-zZcZ2a"
      },
      "source": [
        "np.random.seed(2)\n",
        "Weights_trial1 = 2.0 * np.random.randn(10) + 10.0   # Randomly set the weights\n",
        "\n",
        "pred_tr1 = np.matmul(diabetes_data, Weights_trial1)     # Make prediction"
      ],
      "execution_count": null,
      "outputs": []
    },
    {
      "cell_type": "code",
      "source": [
        "np.random.seed(8)\n",
        "Weights_trial2 = 1.5 * np.random.randn(10) + 15.0   # Randomly set the weights\n",
        "\n",
        "pred_tr2 = np.matmul(diabetes_data, Weights_trial2)     # Make prediction"
      ],
      "metadata": {
        "id": "jKObaOvVcZ2a"
      },
      "execution_count": null,
      "outputs": []
    },
    {
      "cell_type": "code",
      "source": [
        "np.random.seed(21)\n",
        "Weights_trial3 = 3.8 * np.random.randn(10) + 20.0   # Randomly set the weights\n",
        "\n",
        "pred_tr3 = np.matmul(diabetes_data, Weights_trial3)     # Make prediction"
      ],
      "metadata": {
        "id": "mShZfQyacZ2a"
      },
      "execution_count": null,
      "outputs": []
    },
    {
      "cell_type": "markdown",
      "source": [
        "Visualize the prediction results"
      ],
      "metadata": {
        "id": "tDtzLeG2cZ2b"
      }
    },
    {
      "cell_type": "code",
      "source": [
        "import matplotlib.pyplot as plt"
      ],
      "metadata": {
        "id": "uLYrn3S-coYp"
      },
      "execution_count": null,
      "outputs": []
    },
    {
      "cell_type": "code",
      "source": [
        "plt.figure(figsize=(14,4))\n",
        "plt.subplot(1, 3, 1)\n",
        "plt.scatter(diabetes.target, pred_tr1, c='b', s=10)\n",
        "plt.title('trial1')\n",
        "plt.subplot(1, 3, 2)\n",
        "plt.scatter(diabetes.target, pred_tr2, c='r', s=10)\n",
        "plt.title('trial2')\n",
        "plt.subplot(1, 3, 3)\n",
        "plt.scatter(diabetes.target, pred_tr3, c='m', s=10)\n",
        "plt.title('trial3')\n",
        "plt.show()"
      ],
      "metadata": {
        "id": "uMUIhtuTV1vz"
      },
      "execution_count": null,
      "outputs": []
    },
    {
      "cell_type": "markdown",
      "source": [
        "### Use sklearn metrics to measure performance"
      ],
      "metadata": {
        "id": "flgRJvFmcZ2b"
      }
    },
    {
      "cell_type": "code",
      "source": [
        "from sklearn import metrics"
      ],
      "metadata": {
        "id": "QqmXqaKycZ2b"
      },
      "execution_count": null,
      "outputs": []
    },
    {
      "cell_type": "code",
      "source": [
        "def reg_measure(target, pred):\n",
        "  MAE = metrics.mean_absolute_error(target, pred)\n",
        "  MSE = metrics.mean_squared_error(target, pred)\n",
        "  R2 = metrics.r2_score(diabetes.target, pred)\n",
        "\n",
        "  print(\"MAE = \", MAE, \" MSE = \", MSE, \" R2 = \", R2)"
      ],
      "metadata": {
        "id": "0ZKFx6ipcZ2b"
      },
      "execution_count": null,
      "outputs": []
    },
    {
      "cell_type": "code",
      "source": [
        "print('Trial1>')\n",
        "reg_measure(diabetes.target, pred_tr1)\n",
        "print('Trial2>')\n",
        "reg_measure(diabetes.target, pred_tr2)\n",
        "print('Trial3>')\n",
        "reg_measure(diabetes.target, pred_tr3)"
      ],
      "metadata": {
        "id": "wYVq6k8qXw3_"
      },
      "execution_count": null,
      "outputs": []
    },
    {
      "cell_type": "markdown",
      "source": [
        "This is NOT the way we build a ML model 😰\n",
        "\n",
        "We will see how we build an actual ML model in the coming lectures!"
      ],
      "metadata": {
        "id": "exQlNhOqcdqo"
      }
    }
  ]
}