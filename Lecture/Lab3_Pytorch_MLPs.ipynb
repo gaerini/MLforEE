{
  "nbformat": 4,
  "nbformat_minor": 0,
  "metadata": {
    "colab": {
      "provenance": []
    },
    "kernelspec": {
      "name": "python3",
      "display_name": "Python 3"
    },
    "gpuClass": "standard"
  },
  "cells": [
    {
      "cell_type": "markdown",
      "metadata": {
        "tags": [
          "pdf-title"
        ],
        "id": "WzMsQL-VaLgz"
      },
      "source": [
        "# **MLPs with PyTorch**\n"
      ]
    },
    {
      "cell_type": "markdown",
      "source": [
        "## **PyTorch packages:**\n",
        "\n",
        "*   torch.nn: Define essential components/classes for building neural networks, including linear layers, activation functions, loss functions, etc.\n",
        "*   torch.nn.Module: Define a neural network by subclassing nn.Module\n",
        "*   torch.optim: Gradient-based optimization algorithms\n",
        "*   torch.nn.functional: Contain common operations for buidling neural networks\n",
        "*   torch.utils.data: Utility classes like datasets and data loaders that make data preprocessing easier\n",
        "*   torch.autograd: Automatic differentiation for Tensor operations"
      ],
      "metadata": {
        "id": "p9r8WXSTKrB2"
      }
    },
    {
      "cell_type": "code",
      "source": [
        "import torch\n",
        "import torch.nn as nn\n",
        "import torch.optim as optim\n",
        "import torch.nn.functional as F\n",
        "from torch.utils.data import TensorDataset, DataLoader"
      ],
      "metadata": {
        "id": "pAa-0I03C9gn"
      },
      "execution_count": null,
      "outputs": []
    },
    {
      "cell_type": "markdown",
      "source": [
        "## **Autograd in PyTorch**"
      ],
      "metadata": {
        "id": "_R9J8nHewhwG"
      }
    },
    {
      "cell_type": "code",
      "source": [
        "x1 = torch.tensor(1, requires_grad=True, dtype=torch.float32)\n",
        "x2 = torch.tensor(3, requires_grad=True, dtype=torch.float32)\n",
        "x3 = torch.tensor(2, requires_grad=True, dtype=torch.float32)\n",
        "x4 = torch.tensor(4, requires_grad=True, dtype=torch.float32)\n",
        "\n",
        "z1 = x1 * x2\n",
        "z2 = x3 * x4\n",
        "o = z1 + z2"
      ],
      "metadata": {
        "id": "IefSF3_bwiuO"
      },
      "execution_count": null,
      "outputs": []
    },
    {
      "cell_type": "markdown",
      "source": [
        "Compute gradients"
      ],
      "metadata": {
        "id": "QZ32BBREyZwi"
      }
    },
    {
      "cell_type": "code",
      "source": [
        "do_dx = torch.autograd.grad(outputs=o, inputs = [x1, x2, x3, x4])\n",
        "print(do_dx)"
      ],
      "metadata": {
        "id": "yvKQVK3uyOZq"
      },
      "execution_count": null,
      "outputs": []
    },
    {
      "cell_type": "markdown",
      "source": [
        "Use `backward` for simplicity"
      ],
      "metadata": {
        "id": "RzC_57D4zS3W"
      }
    },
    {
      "cell_type": "code",
      "source": [
        "x1 = torch.tensor(1, requires_grad=True, dtype=torch.float32)\n",
        "x2 = torch.tensor(3, requires_grad=True, dtype=torch.float32)\n",
        "x3 = torch.tensor(2, requires_grad=True, dtype=torch.float32)\n",
        "x4 = torch.tensor(4, requires_grad=True, dtype=torch.float32)\n",
        "\n",
        "z1 = x1 * x2\n",
        "z2 = x3 * x4\n",
        "o = z1 + z2\n",
        "\n",
        "o.backward()"
      ],
      "metadata": {
        "id": "WTtIv8oGyyhr"
      },
      "execution_count": null,
      "outputs": []
    },
    {
      "cell_type": "code",
      "source": [
        "print(x1.grad, x2.grad, x3.grad, x4.grad)"
      ],
      "metadata": {
        "id": "Tkr5Ar79zFbu"
      },
      "execution_count": null,
      "outputs": []
    },
    {
      "cell_type": "markdown",
      "source": [
        "## **Defin an artificial neural network**"
      ],
      "metadata": {
        "id": "6gEgfj75NHED"
      }
    },
    {
      "cell_type": "markdown",
      "source": [
        "### nn.Module: Define an arbitrary network\n",
        "\n",
        "`nn.Module` allows you to define arbitrary network architectures\n",
        "\n",
        "To use `nn.Module`, there are three steps to follow:\n",
        "\n",
        "1. Subclass `nn.Module`: name a network class such as `SimpleNetwork`\n",
        "\n",
        "2. In the constructor `__init__()`, define your network (all the layers) as class attributes\n",
        "\n",
        "3. In the `forward()` method, \n",
        "  *   Define the connectivity of the network\n",
        "  *   Use the attributes defined in `__init__` as function calls\n",
        "  *   **DO NOT** create new layers with learnable parameters\n",
        "\n",
        "After define the network class, instantiate it as an object and use it\n"
      ],
      "metadata": {
        "id": "n4a2e3B7gQOO"
      }
    },
    {
      "cell_type": "code",
      "source": [
        "# create a child class that inherits the functionality from nn.Module\n",
        "class SimpleNetwork(nn.Module):\n",
        "  # called automatically whenever this class is being used\n",
        "  def __init__(self, input_dim, hidden_dim, output_dim):  \n",
        "    # inherit all the methods and properties from the parent\n",
        "    super(SimpleNetwork, self).__init__()\n",
        "\n",
        "    # define all the layers\n",
        "    self.layer_1 = nn.Linear(input_dim, hidden_dim)\n",
        "    self.layer_2 = nn.Linear(hidden_dim, output_dim)\n",
        "\n",
        "  def forward(self, x):\n",
        "    x = self.layer_1(x)\n",
        "    x = F.relu(x)\n",
        "    x = self.layer_2(x)\n",
        "    x = F.softmax(x, dim=1)\n",
        "    return x"
      ],
      "metadata": {
        "id": "Nc7aaHieDC84"
      },
      "execution_count": null,
      "outputs": []
    },
    {
      "cell_type": "markdown",
      "source": [
        "Instantiate a simple nerual network"
      ],
      "metadata": {
        "id": "YXPSwoWvJFXd"
      }
    },
    {
      "cell_type": "code",
      "source": [
        "my_model = SimpleNetwork(30, 50, 2)\n",
        "print(my_model)"
      ],
      "metadata": {
        "id": "rBt0fR_a4wjY"
      },
      "execution_count": null,
      "outputs": []
    },
    {
      "cell_type": "markdown",
      "source": [
        "### nn.Sequential: Define a simple feed-forward network\n",
        "\n",
        "For a simple network with just a stack of feed forward layers, use `nn.Sequential`\n"
      ],
      "metadata": {
        "id": "vigkdH3me4NC"
      }
    },
    {
      "cell_type": "code",
      "source": [
        "input_dim = 30\n",
        "hidden_dim = 50\n",
        "output_dim = 2\n",
        "\n",
        "# Define a simple network\n",
        "my_model = nn.Sequential(\n",
        "    nn.Linear(input_dim, hidden_dim),\n",
        "    nn.ReLU(),\n",
        "    nn.Linear(hidden_dim, output_dim),\n",
        "    nn.Softmax(dim=1)\n",
        ")\n",
        "\n",
        "print(my_model)"
      ],
      "metadata": {
        "id": "w4T1-fzKe8Zm"
      },
      "execution_count": null,
      "outputs": []
    },
    {
      "cell_type": "code",
      "source": [
        "class SimpleNetwork2(nn.Module):\n",
        "  def __init__(self, input_dim, hidden_dim, output_dim):\n",
        "    super(SimpleNetwork2, self).__init__()\n",
        "    self.layers = nn.Sequential(\n",
        "        nn.Linear(input_dim, hidden_dim),\n",
        "        nn.ReLU(),\n",
        "        nn.Linear(hidden_dim, output_dim),\n",
        "        nn.Softmax(dim=1)\n",
        "    )\n",
        "\n",
        "  def forward(self, x):\n",
        "    x = self.layers(x)\n",
        "    return x"
      ],
      "metadata": {
        "id": "hO3nDcV2cRp5"
      },
      "execution_count": null,
      "outputs": []
    },
    {
      "cell_type": "markdown",
      "source": [
        "Instantiate a simple nerual network"
      ],
      "metadata": {
        "id": "ABJZD6eXJGQN"
      }
    },
    {
      "cell_type": "code",
      "source": [
        "my_model = SimpleNetwork2(30, 50, 2)\n",
        "print(my_model)"
      ],
      "metadata": {
        "id": "QVfh4_bYfm-C"
      },
      "execution_count": null,
      "outputs": []
    },
    {
      "cell_type": "markdown",
      "metadata": {
        "id": "cHAFIK0Cn3Q2"
      },
      "source": [
        "## **Breast Cancer Wisconsin (Diagnostic) Dataset**\n",
        "*   569 instances (212 Malignant, 357 Benign)\n",
        "*   30 numerical features (computed from a digitized image of a breast mass)\n",
        "*   2 classes (Malignant, Benign)\n"
      ]
    },
    {
      "cell_type": "code",
      "metadata": {
        "id": "9Afk-9gTn8kr"
      },
      "source": [
        "import numpy as np\n",
        "from sklearn import datasets\n",
        "from sklearn.model_selection import train_test_split\n",
        "from sklearn import metrics"
      ],
      "execution_count": null,
      "outputs": []
    },
    {
      "cell_type": "code",
      "metadata": {
        "id": "FPo-_s9n4bXf"
      },
      "source": [
        "wisconsin = datasets.load_breast_cancer()\n",
        "TrainData, TestData, TrainLabel, TestLabel = train_test_split(wisconsin.data, wisconsin.target, test_size=0.3, random_state=0)\n",
        "\n",
        "TrainData_min = TrainData.min(axis=0)\n",
        "TrainData_max = TrainData.max(axis=0)\n",
        "\n",
        "TrainData = (TrainData - TrainData_min) / (TrainData_max - TrainData_min)\n",
        "TestData = (TestData - TrainData_min) / (TrainData_max - TrainData_min)"
      ],
      "execution_count": null,
      "outputs": []
    },
    {
      "cell_type": "code",
      "source": [
        "tr_data = torch.from_numpy(TrainData).float()\n",
        "tr_label = torch.from_numpy(TrainLabel)\n",
        "ts_data = torch.from_numpy(TestData).float()\n",
        "ts_label = torch.from_numpy(TestLabel)"
      ],
      "metadata": {
        "id": "KrivO-WDyZ_q"
      },
      "execution_count": null,
      "outputs": []
    },
    {
      "cell_type": "markdown",
      "source": [
        "Set hyperparameters, loss function, and optimzier"
      ],
      "metadata": {
        "id": "tCcdArna0N_H"
      }
    },
    {
      "cell_type": "code",
      "source": [
        "learning_rate = 0.1                 # set learning rate\n",
        "loss_fn = nn.CrossEntropyLoss()     # cross-entropy loss\n",
        "# set SGD as an optimizer\n",
        "optimizer = optim.SGD(my_model.parameters(), lr=learning_rate, momentum=0.9)"
      ],
      "metadata": {
        "id": "ayHNrudYyetM"
      },
      "execution_count": null,
      "outputs": []
    },
    {
      "cell_type": "markdown",
      "source": [
        "Train the network"
      ],
      "metadata": {
        "id": "JuhVtya00Sei"
      }
    },
    {
      "cell_type": "code",
      "source": [
        "num_epochs = 50\n",
        "device = torch.device(\"cuda\" if torch.cuda.is_available() else \"cpu\")\n",
        "\n",
        "# load model and data to GPU\n",
        "my_model = my_model.to(device)\n",
        "tr_data, tr_label = tr_data.to(device), tr_label.to(device)\n",
        "ts_data, ts_label = ts_data.to(device), ts_label.to(device)\n",
        "\n",
        "my_model.train()    # set the model to training mode\n",
        "\n",
        "errors = []\n",
        "for epoch in range(num_epochs):\n",
        "    \n",
        "    optimizer.zero_grad()     # zero the gradients (by default it adds up)\n",
        "\n",
        "    output = my_model(tr_data)\n",
        "    loss = loss_fn(output, tr_label)\n",
        "\n",
        "    loss.backward()           # backpropgate the loss\n",
        "    optimizer.step()          # update parameters\n",
        "\n",
        "    errors.append(loss.item())"
      ],
      "metadata": {
        "id": "lyK3xJBlyZRp"
      },
      "execution_count": null,
      "outputs": []
    },
    {
      "cell_type": "markdown",
      "source": [
        "Visualize training loss"
      ],
      "metadata": {
        "id": "j7R8JBCP0XWL"
      }
    },
    {
      "cell_type": "code",
      "source": [
        "import matplotlib.pyplot as plt"
      ],
      "metadata": {
        "id": "xAVQ3gAvy9i8"
      },
      "execution_count": null,
      "outputs": []
    },
    {
      "cell_type": "code",
      "source": [
        "plt.figure(figsize=(10,5))\n",
        "plt.title('Training Loss')\n",
        "plt.plot(errors)\n",
        "plt.show()"
      ],
      "metadata": {
        "id": "MSXiKxo-y7p0"
      },
      "execution_count": null,
      "outputs": []
    },
    {
      "cell_type": "markdown",
      "source": [
        "Evaluate the model performance"
      ],
      "metadata": {
        "id": "MNPGMD_tDgY3"
      }
    },
    {
      "cell_type": "code",
      "source": [
        "from sklearn import metrics"
      ],
      "metadata": {
        "id": "k8GVMRau-Cgo"
      },
      "execution_count": null,
      "outputs": []
    },
    {
      "cell_type": "code",
      "source": [
        "my_model.eval()       # Set the model to evaluation mode\n",
        "\n",
        "tr_output = my_model(tr_data)\n",
        "_, tr_pred = torch.max(tr_output, 1)\n",
        "\n",
        "ts_output = my_model(ts_data)\n",
        "_, ts_pred = torch.max(ts_output, 1)\n",
        "\n",
        "acc_tr = metrics.accuracy_score(tr_label.cpu(), tr_pred.cpu())\n",
        "acc_ts = metrics.accuracy_score(ts_label.cpu(), ts_pred.cpu())\n",
        "print(\"Training Accuracy =\", acc_tr)\n",
        "print(\"Test Accuracy =\", acc_ts)"
      ],
      "metadata": {
        "id": "AEUEBZ5x-LBW"
      },
      "execution_count": null,
      "outputs": []
    },
    {
      "cell_type": "markdown",
      "source": [
        "**Use PyTorch Dataset and DataLoader**"
      ],
      "metadata": {
        "id": "CmSvyckZDlQc"
      }
    },
    {
      "cell_type": "code",
      "source": [
        "import torch\n",
        "import torch.nn as nn\n",
        "import torch.optim as optim\n",
        "import torch.nn.functional as F\n",
        "from torch.utils.data import TensorDataset, DataLoader"
      ],
      "metadata": {
        "id": "VYQkdxXlKa7l"
      },
      "execution_count": null,
      "outputs": []
    },
    {
      "cell_type": "code",
      "source": [
        "import numpy as np\n",
        "from sklearn import datasets\n",
        "from sklearn.model_selection import train_test_split\n",
        "from sklearn import metrics"
      ],
      "metadata": {
        "id": "3mWV9awSKeBt"
      },
      "execution_count": null,
      "outputs": []
    },
    {
      "cell_type": "code",
      "source": [
        "wisconsin = datasets.load_breast_cancer()\n",
        "TrainData, TestData, TrainLabel, TestLabel = train_test_split(wisconsin.data, wisconsin.target, test_size=0.3, random_state=0)\n",
        "\n",
        "TrainData_min = TrainData.min(axis=0)\n",
        "TrainData_max = TrainData.max(axis=0)\n",
        "\n",
        "TrainData = (TrainData - TrainData_min) / (TrainData_max - TrainData_min)\n",
        "TestData = (TestData - TrainData_min) / (TrainData_max - TrainData_min)"
      ],
      "metadata": {
        "id": "TqmexQe5E6Nd"
      },
      "execution_count": null,
      "outputs": []
    },
    {
      "cell_type": "markdown",
      "source": [
        "Prepare PyTorch Dataset"
      ],
      "metadata": {
        "id": "yQWX-fgN0omD"
      }
    },
    {
      "cell_type": "code",
      "source": [
        "tr_dataset = TensorDataset(torch.from_numpy(TrainData).float(), torch.from_numpy(TrainLabel))\n",
        "ts_dataset = TensorDataset(torch.from_numpy(TestData).float(), torch.from_numpy(TestLabel))"
      ],
      "metadata": {
        "id": "qO5WHMprltPG"
      },
      "execution_count": null,
      "outputs": []
    },
    {
      "cell_type": "code",
      "source": [
        "print(tr_dataset[0])"
      ],
      "metadata": {
        "id": "5kVTe6BcmydP"
      },
      "execution_count": null,
      "outputs": []
    },
    {
      "cell_type": "markdown",
      "source": [
        "Prepare PyTorch DataLoader"
      ],
      "metadata": {
        "id": "jHuMQbVk0z0X"
      }
    },
    {
      "cell_type": "code",
      "source": [
        "train_loader = DataLoader(dataset=tr_dataset, batch_size=16)\n",
        "test_loader = DataLoader(dataset=ts_dataset, batch_size=16)"
      ],
      "metadata": {
        "id": "j_o2jcDQoJeF"
      },
      "execution_count": null,
      "outputs": []
    },
    {
      "cell_type": "code",
      "source": [
        "x, y = next(iter(train_loader))"
      ],
      "metadata": {
        "id": "CyzDDeQIFrtN"
      },
      "execution_count": null,
      "outputs": []
    },
    {
      "cell_type": "code",
      "source": [
        "print('Data: ', x)\n",
        "print('Label: ', y)"
      ],
      "metadata": {
        "id": "Uz00KaCVFvdH"
      },
      "execution_count": null,
      "outputs": []
    },
    {
      "cell_type": "markdown",
      "source": [
        "Instantiate a simple nerual network"
      ],
      "metadata": {
        "id": "Sd0l7AYo1BWo"
      }
    },
    {
      "cell_type": "code",
      "source": [
        "my_model = SimpleNetwork(30, 50, 2)\n",
        "print(my_model)"
      ],
      "metadata": {
        "id": "kemsuWBFD0tY"
      },
      "execution_count": null,
      "outputs": []
    },
    {
      "cell_type": "code",
      "source": [
        "device = torch.device(\"cuda\" if torch.cuda.is_available() else \"cpu\")\n",
        "print(device)"
      ],
      "metadata": {
        "id": "NZCHqvPVp33N"
      },
      "execution_count": null,
      "outputs": []
    },
    {
      "cell_type": "markdown",
      "source": [
        "Set hyperparameters, loss function, and optimzier"
      ],
      "metadata": {
        "id": "iSwnIjDp1Nzd"
      }
    },
    {
      "cell_type": "code",
      "source": [
        "learning_rate = 0.1\n",
        "loss_fn = nn.CrossEntropyLoss()\n",
        "optimizer = optim.SGD(my_model.parameters(), lr=learning_rate, momentum=0.9)"
      ],
      "metadata": {
        "id": "7ct6HL-CG-XE"
      },
      "execution_count": null,
      "outputs": []
    },
    {
      "cell_type": "markdown",
      "source": [
        "Train the network"
      ],
      "metadata": {
        "id": "mmLfoeZE1ONf"
      }
    },
    {
      "cell_type": "code",
      "source": [
        "num_epochs = 5\n",
        "\n",
        "my_model.to(device)\n",
        "my_model.train()\n",
        "\n",
        "errors = []\n",
        "for epoch in range(num_epochs):\n",
        " \n",
        "  for x, y in train_loader:\n",
        "\n",
        "    x = x.to(device)\n",
        "    y = y.to(device)\n",
        "\n",
        "    optimizer.zero_grad()     # zero the gradients (by default it adds up)\n",
        "\n",
        "    output = my_model(x)\n",
        "    loss = loss_fn(output, y)\n",
        "\n",
        "    loss.backward()           # backpropgate the loss\n",
        "    optimizer.step()          # update parameters\n",
        "    errors.append(loss.item())\n"
      ],
      "metadata": {
        "id": "gQddu1ovolk9"
      },
      "execution_count": null,
      "outputs": []
    },
    {
      "cell_type": "markdown",
      "source": [
        "Visualize training loss"
      ],
      "metadata": {
        "id": "Qsyq711D1ShW"
      }
    },
    {
      "cell_type": "code",
      "source": [
        "import matplotlib.pyplot as plt"
      ],
      "metadata": {
        "id": "muV-w0ZcxYrc"
      },
      "execution_count": null,
      "outputs": []
    },
    {
      "cell_type": "code",
      "source": [
        "plt.figure(figsize=(10,5))\n",
        "plt.title('Training Loss')\n",
        "plt.plot(errors)\n",
        "plt.show()"
      ],
      "metadata": {
        "id": "dhNkyE5IxGUs"
      },
      "execution_count": null,
      "outputs": []
    },
    {
      "cell_type": "markdown",
      "source": [
        "Define a function for model training"
      ],
      "metadata": {
        "id": "4HodYZM-raRB"
      }
    },
    {
      "cell_type": "code",
      "source": [
        "def train_model(model, data_loader, optimizer, loss_fn, num_epochs, device):\n",
        "  model.train()\n",
        "\n",
        "  for epoch in range(num_epochs):\n",
        "    train_loss = 0.0\n",
        "    train_corr, train_n = 0, 0\n",
        "    \n",
        "    for i, (x, y) in enumerate(data_loader):\n",
        "\n",
        "      x = x.to(device)\n",
        "      y = y.to(device)\n",
        "\n",
        "      optimizer.zero_grad()     # zero the gradients (by default it adds up)\n",
        "\n",
        "      output = model(x)\n",
        "      loss = loss_fn(output, y)\n",
        "\n",
        "      loss.backward()           # backpropgate the loss\n",
        "      optimizer.step()          # update parameters\n",
        "\n",
        "      _, pred = torch.max(output, 1)\n",
        "      train_corr += torch.sum(pred == y).item()\n",
        "      train_n += y.size(0)\n",
        "\n",
        "      train_loss += loss.item()\n",
        "\n",
        "    # monitor loss and accuracy per epoch\n",
        "    print('Epoch: %d | Loss: %.4f | Train Acc: %.2f%%' \\\n",
        "          %(epoch, train_loss / i, train_corr / train_n * 100))\n",
        "    \n",
        "  return my_model"
      ],
      "metadata": {
        "id": "0JZHdmx7ouoD"
      },
      "execution_count": null,
      "outputs": []
    },
    {
      "cell_type": "markdown",
      "source": [
        "Set hyperparameters, loss function, and optimzier"
      ],
      "metadata": {
        "id": "XzMw0RdV1fEY"
      }
    },
    {
      "cell_type": "code",
      "source": [
        "device = torch.device(\"cuda\" if torch.cuda.is_available() else \"cpu\")\n",
        "\n",
        "my_model = SimpleNetwork(30, 50, 2)\n",
        "my_model.to(device)\n",
        "\n",
        "num_epochs = 5\n",
        "learning_rate = 0.1\n",
        "loss_fn = nn.CrossEntropyLoss()\n",
        "optimizer = optim.SGD(my_model.parameters(), lr=learning_rate, momentum=0.9)"
      ],
      "metadata": {
        "id": "3EBzlAfSqOC4"
      },
      "execution_count": null,
      "outputs": []
    },
    {
      "cell_type": "markdown",
      "source": [
        "Train the network"
      ],
      "metadata": {
        "id": "mdpV5LbG1pFr"
      }
    },
    {
      "cell_type": "code",
      "source": [
        "my_model = train_model(my_model, train_loader, optimizer, loss_fn, num_epochs, device)"
      ],
      "metadata": {
        "id": "biuQhd211nqk"
      },
      "execution_count": null,
      "outputs": []
    },
    {
      "cell_type": "markdown",
      "source": [
        "Evaluate the model performance"
      ],
      "metadata": {
        "id": "wNcEraAXKBFq"
      }
    },
    {
      "cell_type": "code",
      "source": [
        "def test_model(model, data_loader):\n",
        "  model.eval()         # Set the model to evaluation mode\n",
        "\n",
        "  correct = 0\n",
        "  n = 0\n",
        "  with torch.no_grad():   # disable gradient calculation, reduce memory usage \n",
        "    for x, y in data_loader:\n",
        "\n",
        "      x = x.to(device)\n",
        "      y = y.to(device)\n",
        "\n",
        "      # zero the gradients\n",
        "      optimizer.zero_grad()\n",
        "\n",
        "      output = model(x)\n",
        "      _, pred = torch.max(output, 1)\n",
        "\n",
        "      correct += torch.sum(pred == y).item()\n",
        "      n += y.size(0)\n",
        "\n",
        "  acc = correct / n\n",
        "\n",
        "  return acc"
      ],
      "metadata": {
        "id": "Rm58dhYga2d_"
      },
      "execution_count": null,
      "outputs": []
    },
    {
      "cell_type": "code",
      "source": [
        "acc_tr = test_model(my_model, train_loader)\n",
        "acc_ts = test_model(my_model, test_loader)\n",
        "\n",
        "print(\"Training Accuracy =\", acc_tr)\n",
        "print(\"Test Accuracy =\", acc_ts)"
      ],
      "metadata": {
        "id": "sp2h2eGXKHat"
      },
      "execution_count": null,
      "outputs": []
    }
  ]
}