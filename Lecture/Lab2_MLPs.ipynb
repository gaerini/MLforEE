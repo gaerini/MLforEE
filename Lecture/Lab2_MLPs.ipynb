{
  "nbformat": 4,
  "nbformat_minor": 0,
  "metadata": {
    "colab": {
      "provenance": []
    },
    "kernelspec": {
      "name": "python3",
      "display_name": "Python 3"
    }
  },
  "cells": [
    {
      "cell_type": "markdown",
      "metadata": {
        "id": "_k-bRbF5wmjd"
      },
      "source": [
        "# **Perceptrons & MLPs**"
      ]
    },
    {
      "cell_type": "markdown",
      "metadata": {
        "id": "3MIglx9_3Ltr"
      },
      "source": [
        "Import Libraries"
      ]
    },
    {
      "cell_type": "code",
      "metadata": {
        "id": "UZbZi3wc3RAi"
      },
      "source": [
        "import numpy as np\n",
        "import matplotlib.pyplot as plt"
      ],
      "execution_count": null,
      "outputs": []
    },
    {
      "cell_type": "markdown",
      "source": [
        "## **Let's solve XOR problem**"
      ],
      "metadata": {
        "id": "ySUT4qNjTagC"
      }
    },
    {
      "cell_type": "code",
      "source": [
        "data_xor = np.array([[0,0], [1,0], [0,1], [1,1]]).T\n",
        "label_xor = np.array([0, 1, 1, 0])\n",
        "\n",
        "print('Data : \\n', data_xor)\n",
        "print('Label : ', label_xor)"
      ],
      "metadata": {
        "id": "cNTZcOwQBcdy"
      },
      "execution_count": null,
      "outputs": []
    },
    {
      "cell_type": "markdown",
      "source": [
        "Visualize XOR data"
      ],
      "metadata": {
        "id": "_1E0jC4ZT7eS"
      }
    },
    {
      "cell_type": "code",
      "source": [
        "plt.figure(figsize=(5,5))\n",
        "plt.scatter(data_xor[0], data_xor[1], s=50, c=label_xor, cmap='viridis')\n",
        "plt.title('XOR data')\n",
        "plt.show()"
      ],
      "metadata": {
        "id": "a9lmvTnWOpFh"
      },
      "execution_count": null,
      "outputs": []
    },
    {
      "cell_type": "markdown",
      "source": [
        "Use a single perceptron"
      ],
      "metadata": {
        "id": "V1eN9jyAT-w5"
      }
    },
    {
      "cell_type": "code",
      "source": [
        "weights = np.array([1.1, 0.8])\n",
        "th = 1.0\n",
        "\n",
        "z = np.dot(weights, data_xor)\n",
        "output = (z > th).astype(np.int64)\n",
        "\n",
        "print('Output : ', output)\n",
        "print('Label : ', label_xor)"
      ],
      "metadata": {
        "id": "Ys2vvWtdCDyZ"
      },
      "execution_count": null,
      "outputs": []
    },
    {
      "cell_type": "markdown",
      "source": [
        "Define MLPs"
      ],
      "metadata": {
        "id": "gxeuythlUZCR"
      }
    },
    {
      "cell_type": "markdown",
      "source": [
        "![](https://drive.google.com/uc?id=1ESfv1TiA81Eb9RFkvVIbp0Ysou-htSL4)"
      ],
      "metadata": {
        "id": "JsGwJym9NK-f"
      }
    },
    {
      "cell_type": "code",
      "source": [
        "def MLP_xor(data):\n",
        "  weights_1 = np.array([1.0, 1.0])\n",
        "  weights_2 = np.array([-1.0, -1.0])\n",
        "\n",
        "  z1 = np.dot(weights_1, data)\n",
        "  z2 = np.dot(weights_2, data)\n",
        "\n",
        "  o1 = (z1 > 0.5).astype(np.float64)\n",
        "  o2 = (z2 > -1.5).astype(np.float64)\n",
        "\n",
        "  weights_3 = np.array([1.0, 1.0])\n",
        "  z3 = np.dot(weights_3, np.stack((o1, o2), axis=1).T)\n",
        "\n",
        "  return (z3 > 1.5).astype(np.int64)\n"
      ],
      "metadata": {
        "id": "x9dmYgTDA3Ct"
      },
      "execution_count": null,
      "outputs": []
    },
    {
      "cell_type": "markdown",
      "source": [
        "Prediction using the MLPs"
      ],
      "metadata": {
        "id": "WjfI_eRJUg_p"
      }
    },
    {
      "cell_type": "code",
      "source": [
        "output = MLP_xor(data_xor)\n",
        "\n",
        "print('Output : ', output)\n",
        "print('Label : ', label_xor)"
      ],
      "metadata": {
        "id": "RtVpJPReMSI0"
      },
      "execution_count": null,
      "outputs": []
    },
    {
      "cell_type": "markdown",
      "source": [
        "Prediction on random data"
      ],
      "metadata": {
        "id": "MzPRrlGJUtvG"
      }
    },
    {
      "cell_type": "code",
      "source": [
        "data_rand = np.random.rand(2, 50)\n",
        "\n",
        "plt.figure(figsize=(5,5))\n",
        "plt.scatter(data_rand[0], data_rand[1], s=50, cmap='viridis')\n",
        "plt.title('Random data')\n",
        "plt.show()\n"
      ],
      "metadata": {
        "id": "qsYRR3O9OdVE"
      },
      "execution_count": null,
      "outputs": []
    },
    {
      "cell_type": "code",
      "source": [
        "output_rand = MLP_xor(data_rand)\n",
        "print(output_rand)"
      ],
      "metadata": {
        "id": "tSQMBf-GRoBR"
      },
      "execution_count": null,
      "outputs": []
    },
    {
      "cell_type": "code",
      "source": [
        "plt.figure(figsize=(5,5))\n",
        "plt.scatter(data_rand[0], data_rand[1], s=50, c=output_rand, cmap='viridis')\n",
        "plt.title('Prediction on random data by XOR classifier')\n",
        "plt.show()"
      ],
      "metadata": {
        "id": "nWn7V9GaRugd"
      },
      "execution_count": null,
      "outputs": []
    },
    {
      "cell_type": "markdown",
      "metadata": {
        "id": "cHAFIK0Cn3Q2"
      },
      "source": [
        "## **Breast Cancer Wisconsin (Diagnostic) Dataset**\n",
        "*   569 instances (212 Malignant, 357 Benign)\n",
        "*   30 numerical features (computed from a digitized image of a breast mass)\n",
        "*   2 classes (Malignant, Benign)\n"
      ]
    },
    {
      "cell_type": "markdown",
      "metadata": {
        "id": "BbN_bZpT4Zhv"
      },
      "source": [
        "Import Libraries"
      ]
    },
    {
      "cell_type": "code",
      "metadata": {
        "id": "9Afk-9gTn8kr"
      },
      "source": [
        "import numpy as np\n",
        "from sklearn import datasets\n",
        "from sklearn.model_selection import train_test_split\n",
        "from sklearn import metrics"
      ],
      "execution_count": null,
      "outputs": []
    },
    {
      "cell_type": "markdown",
      "source": [
        "MLPs with sigmoid acvitation function"
      ],
      "metadata": {
        "id": "yiOiRhk2VLjC"
      }
    },
    {
      "cell_type": "code",
      "source": [
        "def sigmoid(x):\n",
        "  return 1 / (1 + np.exp(-x))\n",
        "\n",
        "def perceptron(data, weights):\n",
        "  z = np.dot(weights, data)\n",
        "\n",
        "  return sigmoid(z)\n",
        "\n",
        "def MLP(data, weights_1, weights_2, weights_3):\n",
        "  z1 = perceptron(data, weights_1)\n",
        "  z2 = perceptron(data, weights_2)\n",
        "\n",
        "  return perceptron(np.stack((z1, z2), axis=1).T, weights_3)"
      ],
      "metadata": {
        "id": "my49lzZhLFE3"
      },
      "execution_count": null,
      "outputs": []
    },
    {
      "cell_type": "markdown",
      "metadata": {
        "id": "qdt6lR1G4dPd"
      },
      "source": [
        "Load & split dataset"
      ]
    },
    {
      "cell_type": "code",
      "metadata": {
        "id": "FPo-_s9n4bXf"
      },
      "source": [
        "wisconsin = datasets.load_breast_cancer()\n",
        "TrainData, TestData, TrainLabel, TestLabel = train_test_split(wisconsin.data, wisconsin.target, test_size=0.3, random_state=0)"
      ],
      "execution_count": null,
      "outputs": []
    },
    {
      "cell_type": "code",
      "source": [
        "print(TrainData.shape, TestData.shape)"
      ],
      "metadata": {
        "id": "h9lSPUnXPQwS"
      },
      "execution_count": null,
      "outputs": []
    },
    {
      "cell_type": "markdown",
      "source": [
        "Randomly initialize the weights in MLPs"
      ],
      "metadata": {
        "id": "TmoovjZ2aaii"
      }
    },
    {
      "cell_type": "code",
      "source": [
        "np.random.seed(5)\n",
        "weights_1_1 = 0.06 * np.random.randn(30)\n",
        "weights_1_2 = 0.06 * np.random.randn(30)\n",
        "weights_1_3 = 0.06 * np.random.randn(2)\n",
        "\n",
        "res_tr1 = MLP(TrainData.T, weights_1_1, weights_1_2, weights_1_3)"
      ],
      "metadata": {
        "id": "loFgOg0_X6_y"
      },
      "execution_count": null,
      "outputs": []
    },
    {
      "cell_type": "code",
      "source": [
        "np.random.seed(21)\n",
        "weights_2_1 = 0.02 * np.random.randn(30)\n",
        "weights_2_2 = 0.02 * np.random.randn(30)\n",
        "weights_2_3 = 0.02 * np.random.randn(2)\n",
        "\n",
        "res_tr2 = MLP(TrainData.T, weights_2_1, weights_2_2, weights_2_3)"
      ],
      "metadata": {
        "id": "1SNQY6tkZhBG"
      },
      "execution_count": null,
      "outputs": []
    },
    {
      "cell_type": "code",
      "source": [
        "np.random.seed(31)\n",
        "weights_3_1 = 0.07 * np.random.randn(30)\n",
        "weights_3_2 = 0.07 * np.random.randn(30)\n",
        "weights_3_3 = 0.07 * np.random.randn(2)\n",
        "\n",
        "res_tr3 = MLP(TrainData.T, weights_3_1, weights_3_2, weights_3_3)"
      ],
      "metadata": {
        "id": "b8tQoQPqZiDB"
      },
      "execution_count": null,
      "outputs": []
    },
    {
      "cell_type": "markdown",
      "source": [
        "Prediction on training data"
      ],
      "metadata": {
        "id": "HLmOlcwlaFge"
      }
    },
    {
      "cell_type": "code",
      "source": [
        "pred_tr1 = res_tr1 > 0.5\n",
        "pred_tr2 = res_tr2 > 0.5\n",
        "pred_tr3 = res_tr3 > 0.5\n",
        "\n",
        "acc_tr1 = metrics.accuracy_score(TrainLabel, pred_tr1)\n",
        "acc_tr2 = metrics.accuracy_score(TrainLabel, pred_tr2)\n",
        "acc_tr3 = metrics.accuracy_score(TrainLabel, pred_tr3)\n",
        "\n",
        "print(\"<Training Accuracy>\")\n",
        "print(\"Trial 1 = \", acc_tr1)\n",
        "print(\"Trial 2 = \", acc_tr2)\n",
        "print(\"Trial 3 = \", acc_tr3)"
      ],
      "metadata": {
        "id": "WLnolLJ-zM72"
      },
      "execution_count": null,
      "outputs": []
    },
    {
      "cell_type": "markdown",
      "source": [
        "Choose the best model"
      ],
      "metadata": {
        "id": "4y4iHjWebEqZ"
      }
    },
    {
      "cell_type": "code",
      "source": [
        "weights_1 = weights_3_1\n",
        "weights_2 = weights_3_2\n",
        "weights_3 = weights_3_3\n",
        "\n",
        "res_tr = res_tr3\n",
        "pred_tr = pred_tr3"
      ],
      "metadata": {
        "id": "Q3qVPUk1bF5j"
      },
      "execution_count": null,
      "outputs": []
    },
    {
      "cell_type": "code",
      "source": [
        "acc_tr = metrics.accuracy_score(TrainLabel, pred_tr)\n",
        "prec_tr = metrics.precision_score(TrainLabel, pred_tr)\n",
        "rec_tr = metrics.recall_score(TrainLabel, pred_tr)\n",
        "f1_tr = metrics.f1_score(TrainLabel, pred_tr)\n",
        "\n",
        "print(\"<Training>\")\n",
        "print(\"Accuracy = \", acc_tr, \"Precision = \", prec_tr, \"Recall = \", rec_tr, \"F1-score = \", f1_tr)"
      ],
      "metadata": {
        "id": "uikqbS0dwfNE"
      },
      "execution_count": null,
      "outputs": []
    },
    {
      "cell_type": "markdown",
      "source": [
        "Prediction on test data"
      ],
      "metadata": {
        "id": "o8-N1vOeaJ19"
      }
    },
    {
      "cell_type": "code",
      "source": [
        "res_ts = MLP(TestData.T, weights_1, weights_2, weights_3)\n",
        "pred_ts = res_ts > 0.5\n",
        "\n",
        "acc_ts = metrics.accuracy_score(TestLabel, pred_ts)\n",
        "prec_ts = metrics.precision_score(TestLabel, pred_ts)\n",
        "rec_ts = metrics.recall_score(TestLabel, pred_ts)\n",
        "f1_ts = metrics.f1_score(TestLabel, pred_ts)\n",
        "\n",
        "print(\"<Test>\")\n",
        "print(\"Accuracy = \", acc_ts, \"Precision = \", prec_ts, \"Recall = \", rec_ts, \"F1-score = \", f1_ts)"
      ],
      "metadata": {
        "id": "iaDelPgcZrCJ"
      },
      "execution_count": null,
      "outputs": []
    },
    {
      "cell_type": "markdown",
      "source": [
        "Confusion matrix"
      ],
      "metadata": {
        "id": "4sX1YaSbbWXG"
      }
    },
    {
      "cell_type": "code",
      "source": [
        "tr_cmat = metrics.confusion_matrix(TrainLabel, pred_tr)\n",
        "ts_cmat = metrics.confusion_matrix(TestLabel, pred_ts)\n",
        "\n",
        "print(\"<Confusion Matrix: Training>\")\n",
        "print(tr_cmat)\n",
        "\n",
        "print(\"\\n<Confusion Matrix: Test>\")\n",
        "print(ts_cmat)"
      ],
      "metadata": {
        "id": "d3oUZC9oY9jJ"
      },
      "execution_count": null,
      "outputs": []
    },
    {
      "cell_type": "markdown",
      "source": [
        "ROC curve & AUC"
      ],
      "metadata": {
        "id": "2Fi_R-AobceN"
      }
    },
    {
      "cell_type": "code",
      "source": [
        "tr_fpr, tr_tpr, tr_th = metrics.roc_curve(TrainLabel, res_tr, pos_label=1)\n",
        "ts_fpr, ts_tpr, ts_th = metrics.roc_curve(TestLabel, res_ts, pos_label=1)"
      ],
      "metadata": {
        "id": "FpWwwzp1Z9u_"
      },
      "execution_count": null,
      "outputs": []
    },
    {
      "cell_type": "code",
      "source": [
        "import matplotlib.pyplot as plt\n",
        "\n",
        "plt.plot(tr_fpr, tr_tpr, color='b', label='Train')\n",
        "plt.plot(ts_fpr, ts_tpr, color='r', label='Test')\n",
        "plt.xlim([0.0, 1.0])\n",
        "plt.ylim([0.0, 1.0])\n",
        "plt.legend(loc='best')\n",
        "plt.show()"
      ],
      "metadata": {
        "id": "0L0iEjcfbnYz"
      },
      "execution_count": null,
      "outputs": []
    },
    {
      "cell_type": "code",
      "source": [
        "tr_auc = metrics.roc_auc_score(TrainLabel, res_tr2)\n",
        "print('Training AUC : ', tr_auc)\n",
        "\n",
        "ts_auc = metrics.roc_auc_score(TestLabel, res_ts)\n",
        "print('Test AUC : ', ts_auc)"
      ],
      "metadata": {
        "id": "aDJZTbBocFdO"
      },
      "execution_count": null,
      "outputs": []
    },
    {
      "cell_type": "markdown",
      "source": [
        "Now, we can build MLPs!\n",
        "\n",
        "However, we still do not know how to choose the weights 😰\n",
        "\n",
        "We will see how we train MLPs in the coming lectures!"
      ],
      "metadata": {
        "id": "AtebTUVud_tf"
      }
    }
  ]
}