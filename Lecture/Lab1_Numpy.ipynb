{
  "nbformat": 4,
  "nbformat_minor": 0,
  "metadata": {
    "anaconda-cloud": {},
    "kernelspec": {
      "display_name": "Python 3",
      "language": "python",
      "name": "python3"
    },
    "language_info": {
      "codemirror_mode": {
        "name": "ipython",
        "version": 3
      },
      "file_extension": ".py",
      "mimetype": "text/x-python",
      "name": "python",
      "nbconvert_exporter": "python",
      "pygments_lexer": "ipython3",
      "version": "3.7.3"
    },
    "colab": {
      "provenance": []
    }
  },
  "cells": [
    {
      "cell_type": "markdown",
      "metadata": {
        "id": "_vslCdpbuuXD"
      },
      "source": [
        "# **Python NumPy**"
      ]
    },
    {
      "cell_type": "markdown",
      "metadata": {
        "id": "jM69kMCEvalF"
      },
      "source": [
        "## **Why Numpy?**\n",
        "\n",
        "Fundamental Python package for scientific and numerical computing and data analysis\n",
        "\n",
        "*   ndarray for creating multiple dimensional arrays\n",
        "*   Standard math functions for fast operations on the entire arrays of data without having to write loops\n",
        "*   Tools for reading/writing array data\n",
        "*   Tools for linear algebra\n",
        "\n",
        "\n",
        "\n",
        "\n"
      ]
    },
    {
      "cell_type": "markdown",
      "source": [
        "Installation: \n",
        "\n",
        "*   NumPy is pre-installed on CoLab\n",
        "*   If unavailable in your system, need to manually install it"
      ],
      "metadata": {
        "id": "w3gp6EIa7oIF"
      }
    },
    {
      "cell_type": "code",
      "source": [
        "!pip3 show numpy          # Check the availability of numpy"
      ],
      "metadata": {
        "id": "miAYYFur7C6d"
      },
      "execution_count": null,
      "outputs": []
    },
    {
      "cell_type": "code",
      "source": [
        "!pip3 install numpy       # Install NumPy"
      ],
      "metadata": {
        "id": "bEUqAKto8TXp"
      },
      "execution_count": null,
      "outputs": []
    },
    {
      "cell_type": "markdown",
      "metadata": {
        "id": "_VMZ0MlOw7wZ"
      },
      "source": [
        "import numpy library"
      ]
    },
    {
      "cell_type": "code",
      "metadata": {
        "id": "kx81qusZy6kL"
      },
      "source": [
        "import numpy as np"
      ],
      "execution_count": null,
      "outputs": []
    },
    {
      "cell_type": "markdown",
      "metadata": {
        "id": "XruZKOuXuuXR"
      },
      "source": [
        "## **ndarray (n-dimensional array)**\n",
        "*   Storage of homogeneous data (all elements must be the same type)\n",
        "*   Occupy less memory than a list\n",
        "*   Every array must have a shape and a dtype\n",
        "*   Support convenient slicing, indexing and efficient vectorized computation (avoid for loops and much more efficient)\n",
        "\n",
        "\n"
      ]
    },
    {
      "cell_type": "markdown",
      "metadata": {
        "id": "60cTYqx1SBgg"
      },
      "source": [
        "Create ndarrays"
      ]
    },
    {
      "cell_type": "code",
      "metadata": {
        "id": "NLLrpik_uuXe"
      },
      "source": [
        "tmp_arr = np.array([[0,1,2,], [2,3,4]])\n",
        "print(tmp_arr)\n",
        "\n",
        "print(\"\\nShape of an arr : \", tmp_arr.shape)"
      ],
      "execution_count": null,
      "outputs": []
    },
    {
      "cell_type": "code",
      "metadata": {
        "id": "VKmwOajMuuXi"
      },
      "source": [
        "zero_arr = np.zeros((2,3))      # all elemnts are 0s\n",
        "print(\"Zero array: \\n\", zero_arr)\n",
        "\n",
        "one_arr = np.ones((2,3))        # all elemnts are 1s\n",
        "print(\"\\nOne array: \\n\", one_arr)\n",
        "\n",
        "diag_arr = np.eye(3)           # diagonal matrix\n",
        "print(\"\\nDiagonal array : \\n\", diag_arr)"
      ],
      "execution_count": null,
      "outputs": []
    },
    {
      "cell_type": "code",
      "source": [
        "# an array of given shape and type, filled with the given value\n",
        "fill_arr = np.full((2,4), 10)\n",
        "print(\"Filled array : \\n\", fill_arr)\n",
        "\n",
        "# an array of zeros with the same shape and type as a given array\n",
        "zeros_like_arr = np.zeros_like(fill_arr)\n",
        "print(\"\\nZeros like array : \\n\", zeros_like_arr)\n",
        "\n",
        "# an array of ones with the same shape and type as a given array\n",
        "ones_like_arr = np.ones_like(fill_arr)\n",
        "print(\"\\nOnes like array : \\n\", ones_like_arr)\n",
        "\n",
        "# a full array with the same shape and type as a given array.\n",
        "full_like_arr = np.full_like(fill_arr, 0.5, dtype=np.double)\n",
        "print(\"\\nFull like array : \\n\", full_like_arr)"
      ],
      "metadata": {
        "id": "jPwJwy25_1rf"
      },
      "execution_count": null,
      "outputs": []
    },
    {
      "cell_type": "markdown",
      "source": [
        "Numerical ranges"
      ],
      "metadata": {
        "id": "M16Lr8IyC-aa"
      }
    },
    {
      "cell_type": "code",
      "source": [
        "# Equivalent to built-in range funciton\n",
        "range_arr = np.arange(0, 10, 2)\n",
        "print(\"Range : \\n\", range_arr)\n",
        "\n",
        "# Evenly spaced numbers over a specified interval\n",
        "linspace_arr = np.linspace(2.0, 3.0, num=5, endpoint=False)\n",
        "print(\"\\nEvenly spaced number : \\n\", linspace_arr)"
      ],
      "metadata": {
        "id": "BN6sqar2_zkM"
      },
      "execution_count": null,
      "outputs": []
    },
    {
      "cell_type": "markdown",
      "source": [
        "Create ndarrays with random values"
      ],
      "metadata": {
        "id": "VZan0jNdDCtK"
      }
    },
    {
      "cell_type": "code",
      "source": [
        "# Random integers\n",
        "rand_arr = np.random.randint(0, 10, (3,3))\n",
        "print(\"Random integer array : \\n\", rand_arr)\n",
        "\n",
        "# Choose random seed\n",
        "np.random.seed(0)\n",
        "rand_arr = np.random.randint(0, 10, (1,2))\n",
        "print(\"\\nRandom integer array with a chosen seed : \\n\", rand_arr)\n",
        "\n",
        "np.random.seed(2)\n",
        "rand_arr = np.random.randint(0, 10, (1,2))\n",
        "print(\"\\nRandom integer array with a chosen seed : \\n\", rand_arr)"
      ],
      "metadata": {
        "id": "txBh75F4Di_m"
      },
      "execution_count": null,
      "outputs": []
    },
    {
      "cell_type": "markdown",
      "source": [
        "Random ndarrays from normal distribution"
      ],
      "metadata": {
        "id": "SPpOGgjXFUKN"
      }
    },
    {
      "cell_type": "code",
      "source": [
        "range_rand_arr = np.random.randint(5, size=(2, 4))\n",
        "print(\"Random integer array : \\n\", range_rand_arr)\n",
        "\n",
        "# Standard normal distribution with 0 mean and 1 standard deviation \n",
        "nrand_arr = np.random.randn(2, 4)\n",
        "print(\"\\nRandom array from normal distribution (0 mean, 1 SD) : \\n\", nrand_arr)\n",
        "\n",
        "# Normal distribution with 5 mean and 3.5 standard deviation\n",
        "mu = 5\n",
        "sigma = 3.5\n",
        "nrand_arr2 = mu + sigma * np.random.randn(2, 4)\n",
        "print(\"\\nRandom array from normal distribution (5 mean, 3.5 SD) : \\n\", nrand_arr2)"
      ],
      "metadata": {
        "id": "P0cBJeB-FQFR"
      },
      "execution_count": null,
      "outputs": []
    },
    {
      "cell_type": "markdown",
      "metadata": {
        "id": "xqNlY94GUCYz"
      },
      "source": [
        "## **data types**\n",
        "*   Integers: int8, int16, int32, int64\n",
        "*   Floating-point: float16, float32, float64, float128\n",
        "*   Boolean: bool\n",
        "*   Strings: Unicode\n"
      ]
    },
    {
      "cell_type": "code",
      "metadata": {
        "id": "Ytwk0S05UMfn"
      },
      "source": [
        "data = np.array([[0,1,2,], [2,3,4]])\n",
        "print(data.dtype)\n"
      ],
      "execution_count": null,
      "outputs": []
    },
    {
      "cell_type": "code",
      "metadata": {
        "id": "vwfBDgDgVaNv"
      },
      "source": [
        "print(data.astype(np.float64))"
      ],
      "execution_count": null,
      "outputs": []
    },
    {
      "cell_type": "code",
      "metadata": {
        "id": "GFCNEXG7YnXC"
      },
      "source": [
        "data = np.array([1.4, 2.8, 3.5])\n",
        "print(data.dtype)\n",
        "\n",
        "print(data.astype(np.int64))"
      ],
      "execution_count": null,
      "outputs": []
    },
    {
      "cell_type": "code",
      "metadata": {
        "id": "dyu3YG9PYSIK"
      },
      "source": [
        "data_string = np.array(['1.0', '2.0', '3.0'])\n",
        "print(data_string)\n",
        "\n",
        "print(data_string.astype(np.float64))"
      ],
      "execution_count": null,
      "outputs": []
    },
    {
      "cell_type": "markdown",
      "metadata": {
        "id": "0KP3F83MYjNd"
      },
      "source": [
        "## **Array operations**"
      ]
    },
    {
      "cell_type": "code",
      "metadata": {
        "id": "9pct5TafYlI8"
      },
      "source": [
        "data = np.array([[0,1,2,], [2,3,4]])\n",
        "print(data)\n",
        "\n",
        "print('\\nmultiplication 2: data * 2')\n",
        "print(data * 2)\n",
        "\n",
        "print('\\nexponentiation: data ** 2')\n",
        "print(data ** 2)\n",
        "\n",
        "print('\\nexponentiation: 2 ** data')\n",
        "print(2 ** data)\n",
        "\n",
        "print('\\nelementwise operation: data * data')\n",
        "print(data * data)\n",
        "\n",
        "print('\\nelementwise operation: data / (data+1)')\n",
        "print(data / (data+1))"
      ],
      "execution_count": null,
      "outputs": []
    },
    {
      "cell_type": "markdown",
      "metadata": {
        "id": "ZZlTD2QWaHxU"
      },
      "source": [
        "## **Array indexing and slicing**\n",
        "Similar to python list, but more flexible"
      ]
    },
    {
      "cell_type": "code",
      "metadata": {
        "id": "TkHOAdcYaGlT"
      },
      "source": [
        "data = np.array([[ 3, 18, 12, 16,  4, 13,  2, 13,  6,  9],\n",
        "                 [ 1,  2,  7, 19, 10,  7,  0, 11, 13, 11],\n",
        "                 [12, 31, 13,  2, 17,  9,  0, 7,  2, 11],\n",
        "                 [32, 15,  6,  1,  8, 15,  5, 13,  8,  4]])\n",
        "print(data)"
      ],
      "execution_count": null,
      "outputs": []
    },
    {
      "cell_type": "code",
      "metadata": {
        "id": "bwdExYCBahEb"
      },
      "source": [
        "print(data[:,2])    # 3rd column"
      ],
      "execution_count": null,
      "outputs": []
    },
    {
      "cell_type": "code",
      "metadata": {
        "id": "9XLBkMhHaxMu"
      },
      "source": [
        "print(data[0])      # first row"
      ],
      "execution_count": null,
      "outputs": []
    },
    {
      "cell_type": "code",
      "metadata": {
        "id": "g0Diu_nza2S0"
      },
      "source": [
        "print(data[1:3])    # 2nd and 3rd rows"
      ],
      "execution_count": null,
      "outputs": []
    },
    {
      "cell_type": "code",
      "metadata": {
        "id": "apeEBMYBa080"
      },
      "source": [
        "print(data[0][3])\n",
        "print(data[0,3])"
      ],
      "execution_count": null,
      "outputs": []
    },
    {
      "cell_type": "code",
      "metadata": {
        "id": "G2RBcyljcUKC"
      },
      "source": [
        "print(data[[0,2], :])    # first and 2nd rows"
      ],
      "execution_count": null,
      "outputs": []
    },
    {
      "cell_type": "code",
      "metadata": {
        "id": "HsZK0RGnbE09"
      },
      "source": [
        "print(data[[0,2], [1,4]])"
      ],
      "execution_count": null,
      "outputs": []
    },
    {
      "cell_type": "markdown",
      "source": [
        "### Modify array values"
      ],
      "metadata": {
        "id": "ITWJjoH2KqNX"
      }
    },
    {
      "cell_type": "code",
      "source": [
        "data = np.array([[1,2,3,4,5],[6,7,8,9,10]])\n",
        "print(data)\n",
        "\n",
        "data[0,1] = 10\n",
        "print(\"\\nModify a single value : \\n\", data)\n",
        "\n",
        "data[0] = 1\n",
        "print(\"\\nModify multiple values : \\n\", data)\n",
        "\n",
        "data[1,2:5] = 3\n",
        "print(\"\\nModify multiple values : \\n\", data)"
      ],
      "metadata": {
        "id": "bsx6wmyYKuia"
      },
      "execution_count": null,
      "outputs": []
    },
    {
      "cell_type": "markdown",
      "metadata": {
        "id": "pl30Ui0Zciwl"
      },
      "source": [
        "### Boolean indexing"
      ]
    },
    {
      "cell_type": "code",
      "metadata": {
        "id": "U10_X7K6clck"
      },
      "source": [
        "data = np.array([[ 3, 18, 12, 16,  4, 13,  2, 13,  6,  9],\n",
        "                 [ 1,  2,  7, 19, 10,  7,  0, 11, 13, 11],\n",
        "                 [12, 31, 13,  2, 17,  9,  0, 7,  2, 11],\n",
        "                 [32, 15,  6,  1,  8, 15,  5, 13,  8,  4]])\n",
        "\n",
        "select = [True, False, True, False]\n",
        "print(data[select, :])"
      ],
      "execution_count": null,
      "outputs": []
    },
    {
      "cell_type": "code",
      "metadata": {
        "id": "PQ5l7D5gdCH4"
      },
      "source": [
        "print(data[data[:,0]>10, :])"
      ],
      "execution_count": null,
      "outputs": []
    },
    {
      "cell_type": "markdown",
      "metadata": {
        "id": "_zg2hfIPdQOU"
      },
      "source": [
        "### Reshaping and transposing\n",
        "\n",
        "         [0]   [1]   [2]\n",
        "    [0] (0,0) (0,1) (0,2)\n",
        "    [1] (1,0) (1,1) (1,2)"
      ]
    },
    {
      "cell_type": "code",
      "metadata": {
        "id": "rXNu8MehdTDA"
      },
      "source": [
        "data = np.array([[1,2,3],[4,5,6]])\n",
        "print(data.shape)"
      ],
      "execution_count": null,
      "outputs": []
    },
    {
      "cell_type": "code",
      "metadata": {
        "id": "yuc8kCEGdfG-"
      },
      "source": [
        "data = np.array([1,2,3,4,5,6])\n",
        "print(\"Original array : \", data)\n",
        "\n",
        "data = data.reshape((2,3))\n",
        "print(\"\\nReshape to \", data.shape, \" : \\n\", data)\n",
        "\n",
        "data = data.reshape((3,2))\n",
        "print(\"\\nReshape to \", data.shape, \" : \\n\", data)\n"
      ],
      "execution_count": null,
      "outputs": []
    },
    {
      "cell_type": "markdown",
      "source": [
        "Reshape to a different number of dimensions"
      ],
      "metadata": {
        "id": "1b2tLVFkMbl9"
      }
    },
    {
      "cell_type": "code",
      "source": [
        "data = np.array([1,2,3,4,5,6,7,8,9,10,11,12])\n",
        "print(\"Original array : \", data)\n",
        "\n",
        "data = data.reshape((2,3,2))\n",
        "print(\"\\nReshape to \", data.shape, \" : \\n\", data)\n",
        "\n",
        "data = data.reshape((2,2,3))\n",
        "print(\"\\nReshape to \", data.shape, \" : \\n\", data)\n",
        "\n",
        "data = data.reshape((4,3))\n",
        "print(\"\\nReshape to \", data.shape, \" : \\n\", data)\n",
        "\n",
        "data = data.reshape((2,6))\n",
        "print(\"\\nReshape to \", data.shape, \" : \\n\", data)\n"
      ],
      "metadata": {
        "id": "VlJ51XiwMfC9"
      },
      "execution_count": null,
      "outputs": []
    },
    {
      "cell_type": "code",
      "source": [
        "data = data.reshape((2,7))\n",
        "print(\"\\nReshape to \", data.shape, \" : \\n\", data)"
      ],
      "metadata": {
        "id": "msT7RfsNRJoP"
      },
      "execution_count": null,
      "outputs": []
    },
    {
      "cell_type": "markdown",
      "source": [
        "Transpose an array"
      ],
      "metadata": {
        "id": "CPvKVHpdMZyl"
      }
    },
    {
      "cell_type": "code",
      "metadata": {
        "id": "EPGnkV-ndsQJ"
      },
      "source": [
        "data = np.array([[1,2,3],[4,5,6]])\n",
        "print(\"Original array : \\n\", data)\n",
        "\n",
        "print(\"\\nTransposed array : \\n\", data.T)\n",
        "\n",
        "print(\"\\nTransposed array : \\n\", np.transpose(data))"
      ],
      "execution_count": null,
      "outputs": []
    },
    {
      "cell_type": "code",
      "source": [
        "data = np.arange(0,24)\n",
        "data = data.reshape(2,3,4)\n",
        "print(\"Original array \", data.shape, \": \\n\", data)\n",
        "\n",
        "data = np.transpose(data)     # (0, 1, 2) -> (2, 1, 0)\n",
        "print(\"\\nTransposed array \", data.shape, \": \\n\", data)\n"
      ],
      "metadata": {
        "id": "1fWOzS2sSc-O"
      },
      "execution_count": null,
      "outputs": []
    },
    {
      "cell_type": "markdown",
      "source": [
        "Transpose along specific axes"
      ],
      "metadata": {
        "id": "8qY0VQPJTZ3q"
      }
    },
    {
      "cell_type": "code",
      "source": [
        "data = np.arange(0,24)\n",
        "data = data.reshape(2,3,4)\n",
        "print(\"Original array \", data.shape, \": \\n\", data)\n",
        "\n",
        "data = np.transpose(data, axes=(0, 2, 1))\n",
        "print(\"\\nTransposed array \", data.shape, \": \\n\", data)"
      ],
      "metadata": {
        "id": "be_pNm4nTcXa"
      },
      "execution_count": null,
      "outputs": []
    },
    {
      "cell_type": "markdown",
      "source": [
        "## **Array Flattening**"
      ],
      "metadata": {
        "id": "-5FPKUE6T5-1"
      }
    },
    {
      "cell_type": "code",
      "source": [
        "data = np.arange(0,8)\n",
        "data = data.reshape(2,4)\n",
        "print(\"Original array \", data.shape, \": \\n\", data)\n"
      ],
      "metadata": {
        "id": "3os_o3akUOu5"
      },
      "execution_count": null,
      "outputs": []
    },
    {
      "cell_type": "markdown",
      "source": [
        "Use flatten()"
      ],
      "metadata": {
        "id": "_SRFPgBsWIrQ"
      }
    },
    {
      "cell_type": "code",
      "source": [
        "vec1 = data.flatten()             # rows are stacked on each other\n",
        "print(\"\\nFlattened array \", vec1.shape, \": \\n\", vec1)\n",
        "\n",
        "vec2 = data.flatten('F')          # columns are stacked on each other\n",
        "print(\"\\nFlattened array \", vec2.shape, \": \\n\", vec2)"
      ],
      "metadata": {
        "id": "mawWflbZWHBy"
      },
      "execution_count": null,
      "outputs": []
    },
    {
      "cell_type": "markdown",
      "source": [
        "Use ravel()"
      ],
      "metadata": {
        "id": "dcpRl-TxVWC8"
      }
    },
    {
      "cell_type": "code",
      "source": [
        "vec3 = data.ravel()               # rows are stacked on each other\n",
        "print(\"\\nFlattened array \", vec3.shape, \": \\n\", vec3)\n",
        "\n",
        "vec4 = data.ravel(order='F')      # columns are stacked on each other\n",
        "print(\"\\nFlattened array \", vec4.shape, \": \\n\", vec4)"
      ],
      "metadata": {
        "id": "kbTbYe0gWE3R"
      },
      "execution_count": null,
      "outputs": []
    },
    {
      "cell_type": "markdown",
      "source": [
        "Use reshape()"
      ],
      "metadata": {
        "id": "EJNtJGxfWM3o"
      }
    },
    {
      "cell_type": "code",
      "source": [
        "vec5 = data.reshape(-1)\n",
        "print(\"\\nFlattened array \", vec5.shape, \": \\n\", vec5)"
      ],
      "metadata": {
        "id": "ZvuBxxIGWKlo"
      },
      "execution_count": null,
      "outputs": []
    },
    {
      "cell_type": "code",
      "source": [
        "data[0] = 10\n",
        "print(\"Original array \", data.shape, \": \\n\", data)\n",
        "\n",
        "print(\"\\nFlattened array - flatten() \", vec1.shape, \": \\n\", vec1)\n",
        "print(\"\\nFlattened array - ravel() \", vec3.shape, \": \\n\", vec3)\n",
        "print(\"\\nFlattened array - reshape() \", vec5.shape, \": \\n\", vec5)"
      ],
      "metadata": {
        "id": "9IbRHPzuWT8g"
      },
      "execution_count": null,
      "outputs": []
    },
    {
      "cell_type": "markdown",
      "source": [
        "## **Combinig Data**"
      ],
      "metadata": {
        "id": "TIhn-qPzlIME"
      }
    },
    {
      "cell_type": "markdown",
      "source": [
        "### Concatenation\n",
        "\n",
        "\n",
        "*   Join a sequence of arrays along an existing axis\n",
        "*   Arrays must either be empty or have the same shape\n",
        "\n",
        "\n"
      ],
      "metadata": {
        "id": "HbUJKZ4blNxf"
      }
    },
    {
      "cell_type": "code",
      "source": [
        "arr1 = np.array([[1, 2], [3, 4]])\n",
        "print(\"Array1 \", arr1.shape, \" :\\n\", arr1)\n",
        "\n",
        "arr2 = np.array([[5, 6]])\n",
        "print(\"Array2 \", arr2.shape, \" :\\n\", arr2)"
      ],
      "metadata": {
        "id": "Vg8jxd8flMjY"
      },
      "execution_count": null,
      "outputs": []
    },
    {
      "cell_type": "code",
      "source": [
        "concat_arr1 = np.concatenate((arr1, arr2), axis = 0) \n",
        "print(\"Concatenated array1 along axis 0 :\\n\", concat_arr1)\n",
        "\n",
        "concat_arr2 = np.concatenate((arr1, arr2), axis = 1) \n",
        "print(\"\\nConcatenated array1 along axis 1 :\\n\", concat_arr2)"
      ],
      "metadata": {
        "id": "RLxV5nJYl3VZ"
      },
      "execution_count": null,
      "outputs": []
    },
    {
      "cell_type": "markdown",
      "source": [
        "### Stacking\n",
        "\n",
        "*   Join a sequence of arrays along a new axis\n",
        "*   Arryas must have the same size\n",
        "\n"
      ],
      "metadata": {
        "id": "uwp418-EmQIe"
      }
    },
    {
      "cell_type": "code",
      "source": [
        "arr1 = np.array([[1, 2, 3], [4, 5, 6], [7, 8, 9]])\n",
        "print(\"Array1 \", arr1.shape, \" :\\n\", arr1)\n",
        "\n",
        "arr2 = np.array([[10, 11, 12], [13, 14, 15], [16, 17, 18]])\n",
        "print(\"Array2 \", arr2.shape, \" :\\n\", arr2)\n",
        "\n",
        "stacked_arr1 = np.stack((arr1, arr2), axis = 0) \n",
        "print(\"\\nConcatenated array1 along axis 0 \", stacked_arr1.shape, \" :\\n\", stacked_arr1)\n",
        "\n",
        "stacked_arr2 = np.stack((arr1, arr2), axis = 1) \n",
        "print(\"\\nConcatenated array2 along axis 1 \", stacked_arr2.shape, \" :\\n\", stacked_arr2)\n",
        "\n",
        "stacked_arr3 = np.stack((arr1, arr2), axis = -1) \n",
        "print(\"\\nConcatenated array3 along the last axis \", stacked_arr3.shape, \" :\\n\", stacked_arr3)"
      ],
      "metadata": {
        "id": "kApsp9DfmSar"
      },
      "execution_count": null,
      "outputs": []
    },
    {
      "cell_type": "markdown",
      "metadata": {
        "id": "82uUeNx_fcak"
      },
      "source": [
        "## **Vector/Matrix operations**"
      ]
    },
    {
      "cell_type": "markdown",
      "source": [
        "Vector x Vector"
      ],
      "metadata": {
        "id": "ZKwPgh9Ei1od"
      }
    },
    {
      "cell_type": "code",
      "source": [
        "arr1 = np.random.randn(3)\n",
        "arr2 = np.random.randn(3)\n",
        "\n",
        "print(\"Array1 \", arr1.shape, \" : \", arr1)\n",
        "print(\"Array2 \", arr2.shape, \" : \", arr2)\n",
        "\n",
        "matmul_arr = np.matmul(arr1, arr2)\n",
        "matmul_arr2 = arr1@arr2\n",
        "\n",
        "print(\"\\nMatrix multiplication - np.matmul(array1, array2) : \", matmul_arr)\n",
        "print(\"Matrix multiplication - array1@array2 : \", matmul_arr2)"
      ],
      "metadata": {
        "id": "UizSNrgeiDHx"
      },
      "execution_count": null,
      "outputs": []
    },
    {
      "cell_type": "markdown",
      "source": [
        "Matrix x Vector"
      ],
      "metadata": {
        "id": "TTG94Npci5eR"
      }
    },
    {
      "cell_type": "code",
      "source": [
        "arr3 = np.random.randn(4)\n",
        "arr4 = np.random.randn(3, 4)\n",
        "\n",
        "print(\"Array3 \", arr4.shape, \" : \", arr3)\n",
        "print(\"Array4 \", arr3.shape, \" : \\n\", arr4)\n",
        "\n",
        "matmul_arr = np.matmul(arr4, arr3)\n",
        "matmul_arr2 = arr4@arr3\n",
        "\n",
        "print(\"\\nMatrix multiplication - np.matmul(array1, array2) : \", matmul_arr)\n",
        "print(\"Matrix multiplication - array1@array2 : \", matmul_arr2)"
      ],
      "metadata": {
        "id": "UCUXrZQ0i9aa"
      },
      "execution_count": null,
      "outputs": []
    },
    {
      "cell_type": "markdown",
      "source": [
        "Matrix x Matrix"
      ],
      "metadata": {
        "id": "pLPW9_v-jUbB"
      }
    },
    {
      "cell_type": "code",
      "source": [
        "arr5 = np.random.randn(4, 3)\n",
        "arr6 = np.random.randn(3, 4)\n",
        "\n",
        "print(\"Array5 \", arr5.shape, \" : \", arr5)\n",
        "print(\"\\nArray6 \", arr6.shape, \" : \\n\", arr6)\n",
        "\n",
        "matmul_arr = np.matmul(arr6, arr5)\n",
        "print(\"\\nMatrix multiplication - np.matmul(array1, array2) : \\n\", matmul_arr)"
      ],
      "metadata": {
        "id": "KiBjpdpKjWDa"
      },
      "execution_count": null,
      "outputs": []
    },
    {
      "cell_type": "markdown",
      "source": [
        "Other operations"
      ],
      "metadata": {
        "id": "aCEmo832j1PV"
      }
    },
    {
      "cell_type": "code",
      "metadata": {
        "id": "QVwC9kGkfeTI"
      },
      "source": [
        "data = np.array([[70,80,90,60],[50,30,70,90],[60,75,65,95],[90,85,95,60]])\n",
        "print(data)"
      ],
      "execution_count": null,
      "outputs": []
    },
    {
      "cell_type": "code",
      "metadata": {
        "id": "-Lt7bpN0gP7w"
      },
      "source": [
        "# dot product\n",
        "res = data.dot([0.2, 0.2, 0.3, 0.3])\n",
        "print(res)"
      ],
      "execution_count": null,
      "outputs": []
    },
    {
      "cell_type": "code",
      "metadata": {
        "id": "607923gOg91a"
      },
      "source": [
        "# sum\n",
        "res0 = data.sum(axis=0)\n",
        "res1 = data.sum(axis=1)\n",
        "print(\"Sum = \", res0, res1)"
      ],
      "execution_count": null,
      "outputs": []
    },
    {
      "cell_type": "code",
      "metadata": {
        "id": "87zGcJWAgA1T"
      },
      "source": [
        "# maximum & minimum\n",
        "dmax = data.max(axis=0)\n",
        "dmin = data.min(axis=1)\n",
        "\n",
        "print(\"Max = \", dmax)\n",
        "print(\"Min = \", dmin)"
      ],
      "execution_count": null,
      "outputs": []
    },
    {
      "cell_type": "markdown",
      "metadata": {
        "id": "5_6227zre7c6"
      },
      "source": [
        "For more information : https://docs.scipy.org/doc/numpy/reference/"
      ]
    }
  ]
}